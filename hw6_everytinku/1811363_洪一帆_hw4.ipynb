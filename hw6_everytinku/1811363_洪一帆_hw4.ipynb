{
 "cells": [
  {
   "cell_type": "markdown",
   "metadata": {},
   "source": [
    "# HW4 REPORT\n",
    "\n",
    "`1811363_洪一帆`\n",
    "\n",
    "## 修改内容说明\n",
    "\n",
    "上一版上交的notebook包含了一些错误，之前之所以没有进行修正是为了将错误的结果展现出来。并且在[下文](##答案与实际之间的一些差异)中解释了具体原因。\n",
    "\n",
    "这一版修正了该错误,并且获得了正确的结果。\n",
    "\n",
    "## 实现内容\n",
    "1. [索引构建](#索引构建与检索-(40%)) 使用BSBI方法模拟在内存不足的情况下的索引构建方式，并应用于布尔查询\n",
    "2. [索引压缩](#索引压缩-(30%)) 使用可变长编码对构建的索引进行压缩\n",
    "3. [布尔检索](#布尔联合检索-(10%)) 对空格分隔的单词查询进行联合（与）布尔检索\n",
    "4. [注释的改进]() 尝试使用规范的类、函数注释，在预览的时候就能看到各变量类型就很开心\n",
    "5. [gamma编码、gap编码的实现]()成功实现了gamma编码以进行索引的压缩\n",
    "\n",
    "## 遇到的问题\n",
    "\n",
    ">在第一版之所以没有修正是为了突出对于问题的分析过程\n",
    ">\n",
    ">we's在答案中是被认为一整个单词，但是使用nltk分词的时候是将其分成we ' s三个部分，因此在查询时是认为文档中有we这个单词，但是答案中没有，因此造成了这个差异\n",
    "\n",
    "\n",
    "> 在编写merge函数的时候一直无法找到错误，最终发现在最前面的parse block就没有输出结果\n",
    ">\n",
    ">原因：相对路径编写错误，忘记加上根目录了\n",
    ">```python\n",
    ">td_pairs = self.parse_block(self.data_dir + '/' + block_dir_relative + '/')\n",
    ">```\n",
    ">\n",
    ">此前为了debug方便，将notebook代码复制到py文件进行debug\n",
    ">\n",
    ">但是由于测试代码并未按照notebook，因此仅在自己的测试代码上跑通了，忽视了根目录。因此之后一直都没有能找到原因。\n",
    ">（因为自己的测试代码明明是能跑通的就没把注意力放在那个上面。。。）\n",
    "\n",
    ">还是一个parse block的问题\n",
    ">\n",
    ">258 = {str} 'cool\\n'\n",
    ">\n",
    ">没有忽略文件末尾的\\n导致cool无法和cool\\n匹配，导致错误\n",
    "\n",
    "## ps\n",
    "\n",
    "下面一些注释掉的代码块均为继承的函数，已经将其整合到类中以方便进行debug\n",
    "\n",
    "# HW4 布尔查询之BSBI与索引压缩\n",
    "\n",
    "由于BSBI与索引压缩对于索引的存储方式有着一定的要求，所以之前的框架不再适用，本次作业使用斯坦福大学[CS 276 / LING 286: Information Retrieval and Web Search](https://web.stanford.edu/class/cs276/)课程的代码框架来实现。具体来说主要包含的内容有：\n",
    "1. [索引构建 (40%)](#索引构建与检索-(40%)) 使用BSBI方法模拟在内存不足的情况下的索引构建方式，并应用于布尔查询\n",
    "2. [索引压缩 (30%)](#索引压缩-(30%)) 使用可变长编码对构建的索引进行压缩\n",
    "3. [布尔检索 (10%)](#布尔联合检索-(10%)) 对空格分隔的单词查询进行联合（与）布尔检索\n",
    "3. [实验报告 (10%)](#Report-(25%)) 描述你的代码并回答一些问题\n",
    "4. [额外的编码方式 (10%)](#额外的编码方式-(10%)) 鼓励使用额外的编码方式对索引进行压缩 (例如, gamma-encoding)"
   ]
  },
  {
   "cell_type": "code",
   "execution_count": 58,
   "metadata": {},
   "outputs": [],
   "source": [
    "# You can add additional imports here\n",
    "import sys\n",
    "import pickle as pkl\n",
    "import array\n",
    "import os\n",
    "import timeit\n",
    "import contextlib\n",
    "import zipfile\n",
    "import nltk\n",
    "from collections import defaultdict"
   ]
  },
  {
   "cell_type": "markdown",
   "metadata": {},
   "source": [
    "# 数据集"
   ]
  },
  {
   "cell_type": "markdown",
   "metadata": {},
   "source": [
    "实验使用的文本数据是stanford.edu域下的网页内容，可从http://web.stanford.edu/class/cs276/pa/pa1-data.zip 下载。以下代码将大约170MB的文本数据下载到当前目录下，"
   ]
  },
  {
   "cell_type": "code",
   "execution_count": 59,
   "metadata": {},
   "outputs": [],
   "source": [
    "# import urllib.request\n",
    "#\n",
    "# data_url = 'http://web.stanford.edu/class/cs276/pa/pa1-data.zip'\n",
    "# data_dir = 'pa1-data'\n",
    "# urllib.request.urlretrieve(data_url, data_dir+'.zip')\n",
    "# zip_ref = zipfile.ZipFile(data_dir+'.zip', 'r')\n",
    "# zip_ref.extractall()\n",
    "# zip_ref.close()"
   ]
  },
  {
   "cell_type": "markdown",
   "metadata": {},
   "source": [
    "之后构建的索引会被存储到`output_dir`，`tmp`会存储测试数据（toy-data）所生成的一些临时文件"
   ]
  },
  {
   "cell_type": "code",
   "execution_count": 60,
   "metadata": {},
   "outputs": [],
   "source": [
    "# try:\n",
    "#     os.mkdir('output_dir')\n",
    "# except FileExistsError:\n",
    "#     pass\n",
    "# try:\n",
    "#     os.mkdir('tmp')\n",
    "# except FileExistsError:\n",
    "#     pass\n",
    "# try:\n",
    "#     os.mkdir('toy_output_dir')\n",
    "# except FileExistsError:\n",
    "#     pass"
   ]
  },
  {
   "cell_type": "markdown",
   "metadata": {},
   "source": [
    "在数据目录下有10个子目录（命名0-9）"
   ]
  },
  {
   "cell_type": "code",
   "execution_count": 61,
   "metadata": {},
   "outputs": [
    {
     "data": {
      "text/plain": "['0', '1', '2', '3', '4', '5', '6', '7', '8', '9']"
     },
     "execution_count": 61,
     "metadata": {},
     "output_type": "execute_result"
    }
   ],
   "source": [
    "sorted(os.listdir('pa1-data'))"
   ]
  },
  {
   "cell_type": "markdown",
   "metadata": {},
   "source": [
    "每一个子目录下的文件都包含一个独立网页的内容。可以认为在同一子目录下没有同名文件，即每个文件的绝对路径不会相同。"
   ]
  },
  {
   "cell_type": "code",
   "execution_count": 62,
   "metadata": {},
   "outputs": [
    {
     "data": {
      "text/plain": "['3dradiology.stanford.edu_',\n '3dradiology.stanford.edu_patient_care_Case%2520studies_AVM.html',\n '3dradiology.stanford.edu_patient_care_case_studies.html',\n '5-sure.stanford.edu_',\n '50years.stanford.edu_',\n 'a3cservices.stanford.edu_awards_nominate_',\n 'a3cservices.stanford.edu_facilities_',\n 'a3cservices.stanford.edu_lead_',\n 'aa.stanford.edu_',\n 'aa.stanford.edu_about_aviation.php']"
     },
     "execution_count": 62,
     "metadata": {},
     "output_type": "execute_result"
    }
   ],
   "source": [
    "sorted(os.listdir('pa1-data/0'))[:10]"
   ]
  },
  {
   "cell_type": "markdown",
   "metadata": {},
   "source": [
    "所有的网页内容已经经过处理，仅包含由空格分隔开的单词，不再需要进行额外的标准化工作。"
   ]
  },
  {
   "cell_type": "code",
   "execution_count": 63,
   "metadata": {},
   "outputs": [],
   "source": [
    "# with open('pa1-data.zip/pa1-data/0/3dradiology.stanford.edu_', 'r') as f:\n",
    "#     print(f.read())"
   ]
  },
  {
   "cell_type": "markdown",
   "metadata": {},
   "source": [
    "作业目录下有一个小的数据集文件夹`toy-data`。在使用完整网页数据集之前，我们会用它来测试我们的代码是否正确。"
   ]
  },
  {
   "cell_type": "code",
   "execution_count": 64,
   "metadata": {},
   "outputs": [],
   "source": [
    "toy_dir = 'toy-data'"
   ]
  },
  {
   "cell_type": "markdown",
   "metadata": {},
   "source": [
    "# 索引构建与检索 (40%)"
   ]
  },
  {
   "cell_type": "markdown",
   "metadata": {},
   "source": [
    "作业的第一部分是使用**blocked sort-based indexing (BSBI)** 算法来构建倒排索引并实现布尔检索。关于BSBI算法可以参考老师课件或者斯坦福教材[Section 4.2](http://nlp.stanford.edu/IR-book/pdf/04const.pdf)。以下摘自教材内容\n",
    "\n",
    "> To construct an index, we first make a pass through the collection assembling all term-docID pairs. We then sort the pairs with the term as the dominant key and docID as the secondary key. Finally, we organize the docIDs for each term into a postings list and compute statistics like term and document frequency. For small collections, all this can be done in memory. \n",
    "\n",
    "对于无法在内存一次性处理的较大数据集，将会使用到二级存储（如：磁盘）。"
   ]
  },
  {
   "cell_type": "markdown",
   "metadata": {},
   "source": [
    "## IdMap\n",
    "\n",
    "再次引用教材 Section 4.2:\n",
    "\n",
    "> To make index construction more efficient, we represent terms as termIDs (instead of strings), where each termID is a unique serial number. We can build the mapping from terms to termIDs on the fly while we are processing the collection. Similarly, we also represent documents as docIDs (instead of strings).\n",
    "\n",
    "我们首先定义一个辅助类`IdMap`，用于将字符串和数字ID进行相互映射，以满足我们在term和termID、doc和docID间转换的需求。\n",
    "\n",
    "实现以下代码中的`_get_str` 和 `_get_id`函数，IdMap类的唯一接口是`__getitem__`，它是一个特殊函数，重写了下标运算`[]`,根据下标运算键的类型得到正确的映射值（如果不存在需要添加）。（特殊函数可参考[官方文档](https://docs.python.org/3.7/reference/datamodel.html#special-method-names)）\n",
    "<br>\n",
    "<br>\n",
    "我们会用到字典来将字符串转换为数字，用列表来将数字转换为字符串。"
   ]
  },
  {
   "cell_type": "code",
   "execution_count": 65,
   "metadata": {},
   "outputs": [],
   "source": [
    "class IdMap:\n",
    "    \"\"\"\n",
    "        Helper class to store a mapping from strings to ids.\n",
    "\n",
    "        :param self.id_to_str: list, 存储相应单词，其id为数组中的下标\n",
    "\n",
    "    \"\"\"\n",
    "\n",
    "    def __init__(self):\n",
    "\n",
    "        self.str_to_id = {}\n",
    "        \"self.id_to_str: list, 存储相应单词，其id为数组中的下标\"\n",
    "        self.id_to_str = []\n",
    "\n",
    "    def __len__(self):\n",
    "        \"\"\"Return number of terms stored in the IdMap\"\"\"\n",
    "        return len(self.id_to_str)\n",
    "\n",
    "    def _get_str(self, i):\n",
    "        \"\"\"Returns the string corresponding to a given id (`i`).\"\"\"\n",
    "        ### Begin your code\n",
    "        if i >= self.__len__():\n",
    "            raise IndexError\n",
    "        return self.id_to_str[i]\n",
    "        ### End your code\n",
    "\n",
    "    def _get_id(self, s):\n",
    "        \"\"\"Returns the id corresponding to a string (`s`).\n",
    "        If `s` is not in the IdMap yet, then assigns a new id and returns the new id.\n",
    "        \"\"\"\n",
    "        ### Begin your code\n",
    "        res = self.str_to_id.get(s)\n",
    "        if res or res==0:\n",
    "            return res\n",
    "        return self._assign_id(s)\n",
    "        ### End your code\n",
    "\n",
    "    def _assign_id(self, s):\n",
    "        \"\"\"\n",
    "        给一个不在id map中的单词分配id\n",
    "        :param s: str\n",
    "        :return: 分配的id\n",
    "        \"\"\"\n",
    "        len = self.__len__()\n",
    "        self.id_to_str.append(s)\n",
    "        self.str_to_id[s] = len\n",
    "        return len\n",
    "\n",
    "    def __getitem__(self, key):\n",
    "        \"\"\"If `key` is a integer, use _get_str;\n",
    "           If `key` is a string, use _get_id;\"\"\"\n",
    "        if type(key) is int:\n",
    "            return self._get_str(key)\n",
    "        elif type(key) is str:\n",
    "            return self._get_id(key)\n",
    "        else:\n",
    "            raise TypeError"
   ]
  },
  {
   "cell_type": "markdown",
   "metadata": {},
   "source": [
    "确保代码能通过以下简单测试样例"
   ]
  },
  {
   "cell_type": "code",
   "execution_count": 66,
   "metadata": {},
   "outputs": [],
   "source": [
    "testIdMap = IdMap()\n",
    "assert testIdMap['a'] == 0, \"Unable to add a new string to the IdMap\"\n",
    "assert testIdMap['bcd'] == 1, \"Unable to add a new string to the IdMap\"\n",
    "# print(testIdMap['a'])\n",
    "assert testIdMap['a'] == 0, \"Unable to retrieve the id of an existing string\"\n",
    "assert testIdMap[1] == 'bcd', \"Unable to retrive the string corresponding to a\\\n",
    "                                given id\"\n",
    "try:\n",
    "    testIdMap[2]\n",
    "except IndexError as e:\n",
    "    assert True, \"Doesn't throw an IndexError for out of range numeric ids\"\n",
    "assert len(testIdMap) == 2"
   ]
  },
  {
   "cell_type": "markdown",
   "metadata": {},
   "source": [
    "之后会需要你自己来写测试样例来确保你的程序正常运行"
   ]
  },
  {
   "cell_type": "markdown",
   "metadata": {},
   "source": [
    "## 将倒排列表编码成字节数组\n",
    "\n",
    "为了高效地从磁盘读写倒排列表（文档ID），我们将其存储为字节数组的形式。代码提供了`UncompressedPostings`类来用静态函数实现对倒排列表的编码和解码。在之后的任务中你需要使用该接口实现索引压缩版本（可变长编码）。\n",
    "\n",
    "参考:\n",
    "1. https://docs.python.org/3/library/array.html\n",
    "2. https://pymotw.com/3/array/#module-array"
   ]
  },
  {
   "cell_type": "code",
   "execution_count": 67,
   "metadata": {},
   "outputs": [],
   "source": [
    "class UncompressedPostings:\n",
    "    \n",
    "    @staticmethod\n",
    "    def encode(postings_list):\n",
    "        \"\"\"Encodes postings_list into a stream of bytes\n",
    "\n",
    "\n",
    "        Parameters\n",
    "        ----------\n",
    "        postings_list: List[int]\n",
    "            List of docIDs (postings)\n",
    "            \n",
    "        Returns\n",
    "        -------\n",
    "        bytes\n",
    "            bytearray representing integers in the postings_list\n",
    "        \"\"\"\n",
    "        return array.array('L', postings_list).tobytes()\n",
    "        \n",
    "    @staticmethod\n",
    "    def decode(encoded_postings_list):\n",
    "        \"\"\"Decodes postings_list from a stream of bytes\n",
    "        \n",
    "        Parameters\n",
    "        ----------\n",
    "        encoded_postings_list: bytes\n",
    "            bytearray representing encoded postings list as output by encode \n",
    "            function\n",
    "            \n",
    "        Returns\n",
    "        -------\n",
    "        List[int]\n",
    "            Decoded list of docIDs from encoded_postings_list\n",
    "        \"\"\"\n",
    "        \n",
    "        decoded_postings_list = array.array('L')\n",
    "        decoded_postings_list.frombytes(encoded_postings_list)\n",
    "        return decoded_postings_list.tolist()"
   ]
  },
  {
   "cell_type": "markdown",
   "metadata": {},
   "source": [
    "运行以下代码查看其工作方式"
   ]
  },
  {
   "cell_type": "code",
   "execution_count": 68,
   "metadata": {},
   "outputs": [
    {
     "name": "stdout",
     "output_type": "stream",
     "text": [
      "b'\\x01\\x00\\x00\\x00\\x02\\x00\\x00\\x00\\x03\\x00\\x00\\x00'\n",
      "[1, 2, 3]\n"
     ]
    }
   ],
   "source": [
    "x = UncompressedPostings.encode([1,2,3])\n",
    "print(x)\n",
    "print(UncompressedPostings.decode(x))"
   ]
  },
  {
   "cell_type": "markdown",
   "metadata": {},
   "source": [
    "## 磁盘上的倒排索引\n",
    "\n",
    "> With main memory insufficient, we need to use an external sorting algorithm, that is, one that uses disk. For acceptable speed, the central requirement of such an algorithm is that it minimize the number of random disk seeks during sorting - sequential disk reads are far faster than seeks. \n",
    "\n",
    "在这一部分我们提供了一个基类`InvertedIndex`，之后会在此基础上构建它的子类`InvertedIndexWriter`, `InvertedIndexIterator` 和 `InvertedIndexMapper`。在Python中我们常用`cPickle`进行序列化，但是它并不支持部分读和部分写，无法满足BSBI算法的需要，所以我们需要定义自己的存储方式。"
   ]
  },
  {
   "cell_type": "code",
   "execution_count": 69,
   "metadata": {},
   "outputs": [],
   "source": [
    "class InvertedIndex:\n",
    "    \"\"\"A class that implements efficient reads and writes of an inverted index\n",
    "    to disk\n",
    "\n",
    "    Attributes\n",
    "    ----------\n",
    "    postings_dict: Dictionary mapping: termID->(start_position_in_index_file,\n",
    "                                                number_of_postings_in_list,\n",
    "                                               length_in_bytes_of_postings_list)\n",
    "        termID是输入\n",
    "        This is a dictionary that maps from termIDs to a 3-tuple of metadata\n",
    "        that is helpful in reading and writing the postings in the index file\n",
    "        to/from disk. This mapping is supposed to be kept in memory.\n",
    "        start_position_in_index_file is the position (in bytes) of the postings\n",
    "        list in the index file\n",
    "        number_of_postings_in_list is the number of postings (docIDs) in the\n",
    "        postings list\n",
    "        length_in_bytes_of_postings_list is the length of the byte\n",
    "        encoding of the postings list\n",
    "\n",
    "    terms: List[int]\n",
    "        A list of termIDs to remember the order in which terms and their\n",
    "        postings lists were added to index.\n",
    "\n",
    "        After Python 3.7 we technically no longer need it because a Python dict\n",
    "        is an OrderedDict, but since it is a relatively new feature, we still\n",
    "        maintain backward compatibility with a list to keep track of order of\n",
    "        insertion.\n",
    "\n",
    "\n",
    "\n",
    "    \"\"\"\n",
    "\n",
    "    def __init__(self, index_name, postings_encoding=None, directory=''):\n",
    "        \"\"\"\n",
    "        Parameters\n",
    "        ----------\n",
    "        index_name :(str) Name used to store files related to the index\n",
    "        postings_encoding: A class implementing static methods for encoding and\n",
    "            decoding lists of integers. Default is None, which gets replaced\n",
    "            with UncompressedPostings\n",
    "        directory :(str) Directory where the index files will be stored\n",
    "        \"\"\"\n",
    "\n",
    "        self.index_file_path = os.path.join(directory, index_name + '.index')\n",
    "        self.metadata_file_path = os.path.join(directory, index_name + '.dict')\n",
    "\n",
    "        if postings_encoding is None:\n",
    "            self.postings_encoding = UncompressedPostings\n",
    "        else:\n",
    "            self.postings_encoding = postings_encoding\n",
    "        self.directory = directory\n",
    "\n",
    "        self.postings_dict = defaultdict(list)  # 用于存储倒排索引term-postlist\n",
    "        self.terms = []  # Need to keep track of the order in which the\n",
    "        # terms were inserted. Would be unnecessary\n",
    "        # from Python 3.7 onwards\n",
    "\n",
    "    def __enter__(self):\n",
    "        \"\"\"Opens the index_file and loads metadata upon entering the context\"\"\"\n",
    "        # Open the index file\n",
    "        self.index_file = open(self.index_file_path, 'rb+')\n",
    "\n",
    "        # Load the postings dict and terms from the metadata file\n",
    "        with open(self.metadata_file_path, 'rb') as f:\n",
    "            self.postings_dict, self.terms = pkl.load(f)\n",
    "            self.term_iter = self.terms.__iter__()\n",
    "            # print(self.postings_dict,self.terms)\n",
    "\n",
    "        return self\n",
    "\n",
    "    def __exit__(self, exception_type, exception_value, traceback):\n",
    "        \"\"\"Closes the index_file and saves metadata upon exiting the context\"\"\"\n",
    "        # Close the index file\n",
    "        self.index_file.close()\n",
    "\n",
    "        # Write the postings dict and terms to the metadata file\n",
    "        with open(self.metadata_file_path, 'wb') as f:\n",
    "            pkl.dump([self.postings_dict, self.terms], f)"
   ]
  },
  {
   "cell_type": "markdown",
   "metadata": {},
   "source": [
    "因为是在与磁盘上的文件进行交互，所以我们提供了`__enter__`和`__exit__`函数，它使得我们能够像使用python中文件IO一样使用`with`语句。（参考[上下文管理器官方文档](https://docs.python.org/3/library/contextlib.html)）\n",
    "\n",
    "以下是使用 `InvertedIndexWriter` 上下文管理器的实例:\n",
    "\n",
    "```python\n",
    "\n",
    "with InvertedIndexWriter('test', directory='tmp/') as index:\n",
    "    # Some code here\n",
    "    index\n",
    "```"
   ]
  },
  {
   "cell_type": "markdown",
   "metadata": {},
   "source": [
    "## 索引\n",
    "\n",
    "> BSBI\n",
    ">(i) segments the collection into parts of equal size,\n",
    ">(ii) sorts the termID-docID pairs of each part in memory,\n",
    ">(iii) stores intermediate sorted results on disk, and\n",
    ">(iv) merges all intermediate results into the final index.\n",
    "\n",
    "你需要将每一个子目录当做一个块（block），并且在构建索引的过程中每次只能加载一个块（模拟内存不足）。注意到我们是将操作系统意义上的块进行了抽象。你可以认为每个块足够小，能被装载进内存。\n",
    "\n",
    "在这一部分，我们将阶段性地构造类`BSBIIndex`。函数`index`给出了BSBI算法的框架，而你的工作则是在接下来的部分中实现函数`parse_block`, `invert_write` 和 `merge`。"
   ]
  },
  {
   "cell_type": "code",
   "execution_count": 70,
   "metadata": {},
   "outputs": [],
   "source": [
    "# Do not make any changes here, they will be overwritten while grading\n",
    "class BSBIIndex:\n",
    "    \"\"\"\n",
    "    Attributes\n",
    "    ----------\n",
    "    term_id_map(IdMap): For mapping terms to termIDs\n",
    "    doc_id_map(IdMap): For mapping relative paths of documents (eg\n",
    "        0/3dradiology.stanford.edu_) to docIDs\n",
    "    data_dir(str): Path to data\n",
    "    output_dir(str): Path to output index files\n",
    "    index_name(str): Name assigned to index\n",
    "    postings_encoding: Encoding used for storing the postings.\n",
    "        The default (None) implies UncompressedPostings\n",
    "    \"\"\"\n",
    "\n",
    "    def __init__(self, data_dir, output_dir, index_name=\"BSBI\",\n",
    "                 postings_encoding=None):\n",
    "        self.term_id_map = IdMap()\n",
    "        self.doc_id_map = IdMap()\n",
    "        self.data_dir = data_dir\n",
    "        self.output_dir = output_dir\n",
    "        self.index_name = index_name\n",
    "        self.postings_encoding = postings_encoding\n",
    "\n",
    "        # Stores names of intermediate indices\n",
    "        self.intermediate_indices = []\n",
    "\n",
    "    def save(self):\n",
    "        \"\"\"\n",
    "        都是单独的map，而非倒排索引表\n",
    "        Dumps doc_id_map and term_id_map into output directory\"\"\"\n",
    "\n",
    "        with open(os.path.join(self.output_dir, 'terms.dict'), 'wb') as f:\n",
    "            pkl.dump(self.term_id_map, f)\n",
    "        with open(os.path.join(self.output_dir, 'docs.dict'), 'wb') as f:\n",
    "            pkl.dump(self.doc_id_map, f)\n",
    "\n",
    "    def load(self):\n",
    "        \"\"\"Loads doc_id_map and term_id_map from output directory\"\"\"\n",
    "\n",
    "        with open(os.path.join(self.output_dir, 'terms.dict'), 'rb') as f:\n",
    "            self.term_id_map = pkl.load(f)\n",
    "        with open(os.path.join(self.output_dir, 'docs.dict'), 'rb') as f:\n",
    "            self.doc_id_map = pkl.load(f)\n",
    "\n",
    "    def merge(self, indices, merged_index):\n",
    "        \"\"\"\n",
    "        未能实现完全的不利用多余内存的合并方法\n",
    "        Merges multiple inverted indices into a single index\n",
    "        利用merged index来进行写入磁盘\n",
    "\n",
    "\n",
    "\n",
    "        import heapq\n",
    "        animal_lifespans = [('Giraffe', 28),\n",
    "                           ('Rhinoceros', 40),\n",
    "                           ('Indian Elephant', 70),\n",
    "                           ('Golden Eagle', 80),\n",
    "                           ('Box turtle', 123)]\n",
    "\n",
    "        tree_lifespans = [('Gray Birch', 50),\n",
    "                          ('Black Willow', 70),\n",
    "                          ('Basswood', 100),\n",
    "                          ('Bald Cypress', 600)]\n",
    "\n",
    "        lifespan_lists = [animal_lifespans, tree_lifespans]\n",
    "\n",
    "        for merged_item in heapq.merge(*lifespan_lists, key=lambda x: x[1]):\n",
    "            print(merged_item)\n",
    "\n",
    "\n",
    "        Parameters\n",
    "        ----------\n",
    "        indices: List[InvertedIndexIterator]\n",
    "            A list of InvertedIndexIterator objects, each representing an\n",
    "            **iterable inverted index for a block**\n",
    "        merged_index: InvertedIndexWriter\n",
    "            An instance of InvertedIndexWriter object into which each merged\n",
    "            postings list is written out one at a time\n",
    "        \"\"\"\n",
    "        # print(len(self.term_id_map))\n",
    "        # 此时我应该能够在一个循环中存下所有该词的posting list\n",
    "\n",
    "        stack = defaultdict(list) # 用来保存next出来，但是不能立即加入到pl中的tuple元组\n",
    "        for termid in range(len(self.term_id_map)):\n",
    "            pl = []\n",
    "            for iii in indices:\n",
    "                try:\n",
    "                    while iii:\n",
    "                        tup = next(iii)\n",
    "                        if tup[0] == termid:  # 完成一次插入就跳出，否则会直接遍历完iter的所有元素并且无法重新置位为起始\n",
    "                            pl += tup[1]\n",
    "                            break\n",
    "                        stack[tup[0]]+=tup[1]  # 返回的tup[0]并非当前正在合并的term，因此将它放到列表中\n",
    "                except StopIteration:\n",
    "                    continue\n",
    "            if stack.get(termid):\n",
    "                pl+=stack.pop(termid)\n",
    "            merged_index.append(termid, sorted(pl))\n",
    "\n",
    "#         term_id = -1\n",
    "#         postings_list = []\n",
    "#         print('-' * 40)\n",
    "#         print(self.term_id_map.id_to_str)\n",
    "#         print(self.doc_id_map.id_to_str)\n",
    "#         for pair in heapq.merge(*indices, key=lambda x: x[0]):\n",
    "# #             print(pair)\n",
    "#             if pair[0] != term_id:\n",
    "#                 if term_id != -1:\n",
    "#                     merged_index.append(term_id, sorted(set(postings_list)))\n",
    "#                 term_id = pair[0]\n",
    "#                 postings_list = []\n",
    "#             postings_list += pair[1]\n",
    "#         merged_index.append(term_id, sorted(set(postings_list)))\n",
    "\n",
    "    def index(self):\n",
    "        \"\"\"Base indexing code\n",
    "\n",
    "        既然我们知道文档列表已经排过序了，那么我们可以在线性时间内对它们进行合并排序。\n",
    "        事实上heapq(参考文档) 是Python中一个实现了堆排序算法的标准模板。\n",
    "        另外它还包含一个实用的函数heapq.merge，可以将多个已排好序的输入（可迭代）合并成一个有序的输出并返回它的迭代器。\n",
    "        它不仅可以用来合并倒排列表，也可以合并倒排索引词典。\n",
    "\n",
    "        This function loops through the data directories,\n",
    "        calls parse_block to parse the documents\n",
    "        calls invert_write, which inverts each block and writes to a new index\n",
    "        then saves the id maps and calls merge on the intermediate indices\n",
    "        \"\"\"\n",
    "        import time\n",
    "\n",
    "        # 从顶层目录开始解析\n",
    "        for block_dir_relative in sorted(next(os.walk(self.data_dir))[1]):\n",
    "            time_start=time.time()\n",
    "\n",
    "            td_pairs = self.parse_block(self.data_dir + '/' + block_dir_relative + '/')\n",
    "\n",
    "\n",
    "            index_id = 'index_' + block_dir_relative\n",
    "            self.intermediate_indices.append(index_id)\n",
    "            # 将一个目录下的文件写入磁盘\n",
    "            with InvertedIndexWriter(index_id, directory=self.output_dir,\n",
    "                                     postings_encoding=\n",
    "                                     self.postings_encoding) as index:\n",
    "                self.invert_write(td_pairs, index)  # 应该没问题了\n",
    "                td_pairs = None\n",
    "            time_end=time.time()\n",
    "            print(\"time=\",time_end-time_start)\n",
    "        self.save()\n",
    "        with InvertedIndexWriter(self.index_name, directory=self.output_dir,\n",
    "                                 postings_encoding=\n",
    "                                 self.postings_encoding) as merged_index:\n",
    "            # 入栈\n",
    "            with contextlib.ExitStack() as stack:\n",
    "                # 根据index id向stack压栈，组成一个列表，每个列表项indices[i]是一个\n",
    "                indices = [stack.enter_context(\n",
    "                    InvertedIndexIterator(index_id,\n",
    "                                          directory=self.output_dir,\n",
    "                                          postings_encoding=\n",
    "                                          self.postings_encoding))\n",
    "                    for index_id in self.intermediate_indices]\n",
    "                # print(indices)\n",
    "                time_start=time.time()\n",
    "\n",
    "                self.merge(indices, merged_index)\n",
    "                time_end=time.time()\n",
    "                print(\"time=\",time_end-time_start)\n",
    "\n",
    "    def parse_block(self, block_dir_relative):\n",
    "        \"\"\"\n",
    "        仅返回td pairs的list，非倒排索引表，未进行文档去重\n",
    "        Parses a tokenized text file into termID-docID pairs\n",
    "\n",
    "        Parameters\n",
    "        ----------\n",
    "        block_dir_relative : str\n",
    "            Relative Path to the directory that contains the files for the block\n",
    "\n",
    "        Returns\n",
    "        -------\n",
    "\n",
    "        List[(Int, Int)]\n",
    "            Returns all the td_pairs extracted from the block\n",
    "            # used to be List[Tuple[Int, Int]]\n",
    "\n",
    "        Should use self.term_id_map and self.doc_id_map to get termIDs and docIDs.\n",
    "        These persist across calls to parse_block\n",
    "        \"\"\"\n",
    "        result = []\n",
    "        for filepath, dirs, fs in os.walk(block_dir_relative):\n",
    "            for filename in fs:\n",
    "                fullpath = os.path.join(filepath, filename)\n",
    "                with open(fullpath, 'r') as fr:\n",
    "                    docID = self.doc_id_map.__getitem__(fullpath)\n",
    "                    # pattern=re.compile('\\S*?')\n",
    "                    # words = pattern.findall(fr.read())\n",
    "                    words=fr.read().strip().split(' ')\n",
    "                    # print(words)\n",
    "                    for word in words:\n",
    "                        # 返回一个词的id\n",
    "                        termID = self.term_id_map.__getitem__(word)\n",
    "                        result.append((termID, docID))\n",
    "\n",
    "        return result\n",
    "\n",
    "    def invert_write(self, td_pairs, index):\n",
    "        \"\"\"\n",
    "        写一个块的数据，index是一个块的writer\n",
    "        构建倒排索引列表，并写入相应index文件\n",
    "        Inverts td_pairs into postings_lists and writes them to the given index\n",
    "\n",
    "        Parameters\n",
    "        ----------\n",
    "        td_pairs: List[Tuple[Int, Int]]\n",
    "            一个块中的td pairs\n",
    "            List of termID-docID pairs\n",
    "            和parse blocks函数返回值相同\n",
    "        index: InvertedIndexWriter\n",
    "            对应块的index文件\n",
    "            Inverted index on disk corresponding to the block\n",
    "        \"\"\"\n",
    "        res = defaultdict(list)\n",
    "        # 遍历所有td pairs并将其归类，形成term - doclist的inverted list\n",
    "        for pair in sorted(td_pairs):\n",
    "            termID = pair[0]\n",
    "            docID = pair[1]\n",
    "            res[termID].append(docID)\n",
    "        terms = res.keys()\n",
    "        # 将每个term 以及其postinglist写入磁盘\n",
    "        for t in terms:\n",
    "            index.append(t, sorted((set(res[t]))))\n",
    "            \n",
    "            \n",
    "    def retrieve(self, query):\n",
    "        \"\"\"Retrieves the documents corresponding to the conjunctive query\n",
    "\n",
    "        Parameters\n",
    "        ----------\n",
    "        query: str\n",
    "            Space separated list of query tokens\n",
    "\n",
    "        Result\n",
    "        ------\n",
    "        List[str]\n",
    "            Sorted list of documents which contains each of the query tokens.\n",
    "            Should be empty if no documents are found.\n",
    "\n",
    "        Should NOT throw errors for terms not in corpus\n",
    "        \"\"\"\n",
    "        if len(self.term_id_map) == 0 or len(self.doc_id_map) == 0:\n",
    "            self.load()\n",
    "\n",
    "        ### Begin your code\n",
    "        terms = query.split(' ')\n",
    "        with InvertedIndexMapper(self.index_name, self.postings_encoding, directory=self.output_dir) as iim:\n",
    "            res = []\n",
    "\n",
    "            for term in terms:\n",
    "                try:\n",
    "                    termid=self.term_id_map.str_to_id[term]\n",
    "                    if not res:\n",
    "                        res = iim._get_postings_list(termid)\n",
    "                    res = sorted_intersect(res, iim._get_postings_list(termid))\n",
    "                except Exception:\n",
    "                    print(term, '没找到')\n",
    "                    continue\n",
    "            return [self.doc_id_map.id_to_str[r] for r in res]\n",
    "        ### End your code\n",
    "\n",
    "# BSBI_instance = BSBIIndex(data_dir='test-pa1-data1', output_dir = 'test-output-diroutput_dir' )\n",
    "# BSBI_instance.index()"
   ]
  },
  {
   "cell_type": "markdown",
   "metadata": {},
   "source": [
    "### 解析\n",
    "\n",
    "> The function `parse_block`  parses documents into termID-docID pairs and accumulates the pairs in memory until a block of a fixed size is full. We choose the block size to fit comfortably into memory to permit a fast in-memory sort. \n",
    "\n",
    "你需要将每一个子目录当做一个块，`parse_block`接收子目录路径作为参数。同一子目录下所有文件名都是不同的。\n",
    "\n",
    "_注意 - 我们使用 `BSBIIndex` 继承 `BSBIIndex`, 这只是对一个已存在类添加新内容的简单方法。在这里只是用来切分类的定义（jupyter notebook内教学使用，无特殊含义）。_"
   ]
  },
  {
   "cell_type": "code",
   "execution_count": 71,
   "outputs": [],
   "source": [
    "# class BSBIIndex(BSBIIndex):\n",
    "#     def parse_block(self, block_dir_relative):\n",
    "#         \"\"\"\n",
    "#         仅返回td pairs的list，非倒排索引表，未进行文档去重\n",
    "#         Parses a tokenized text file into termID-docID pairs\n",
    "# \n",
    "#         Parameters\n",
    "#         ----------\n",
    "#         block_dir_relative : str\n",
    "#             Relative Path to the directory that contains the files for the block\n",
    "# \n",
    "#         Returns\n",
    "#         -------\n",
    "# \n",
    "#         List[(Int, Int)]\n",
    "#             Returns all the td_pairs extracted from the block\n",
    "#             # used to be List[Tuple[Int, Int]]\n",
    "# \n",
    "#         Should use self.term_id_map and self.doc_id_map to get termIDs and docIDs.\n",
    "#         These persist across calls to parse_block\n",
    "#         \"\"\"\n",
    "#         result = []\n",
    "#         for filepath, dirs, fs in os.walk(block_dir_relative):\n",
    "#             for filename in fs:\n",
    "#                 fullpath = os.path.join(filepath, filename)\n",
    "#                 with open(fullpath, 'r') as fr:\n",
    "#                     docID = self.doc_id_map.__getitem__(fullpath)\n",
    "#                     words = nltk.word_tokenize(fr.read())\n",
    "#                     for word in words:\n",
    "#                         # 返回一个词的id\n",
    "#                         termID = self.term_id_map.__getitem__(word)\n",
    "#                         result.append((termID, docID))\n",
    "# \n",
    "#         return sorted(result)"
   ],
   "metadata": {
    "collapsed": false,
    "pycharm": {
     "name": "#%%\n"
    }
   }
  },
  {
   "cell_type": "markdown",
   "source": [
    "观察函数在测试数据上是否正常运行"
   ],
   "metadata": {
    "collapsed": false,
    "pycharm": {
     "name": "#%% md\n"
    }
   }
  },
  {
   "cell_type": "code",
   "execution_count": 72,
   "metadata": {},
   "outputs": [
    {
     "name": "stdout",
     "output_type": "stream",
     "text": [
      "i'm fine , thank you\n",
      "\n",
      "hi hi\n",
      "how are you ?\n",
      "\n"
     ]
    }
   ],
   "source": [
    "with open('toy-data/0/fine.txt', 'r') as f:\n",
    "    print(f.read())\n",
    "with open('toy-data/0/hello.txt', 'r') as f:\n",
    "    print(f.read())"
   ]
  },
  {
   "cell_type": "markdown",
   "metadata": {},
   "source": [
    "写一些测试样例来确保`parse_block`方法正常运行（如：相同单词出现时是相同ID）"
   ]
  },
  {
   "cell_type": "code",
   "execution_count": 73,
   "outputs": [
    {
     "data": {
      "text/plain": "[(0, 0),\n (1, 0),\n (2, 0),\n (3, 0),\n (4, 0),\n (5, 0),\n (3, 0),\n (6, 0),\n (7, 0),\n (8, 1)]"
     },
     "execution_count": 73,
     "metadata": {},
     "output_type": "execute_result"
    }
   ],
   "source": [
    "### Begin your code\n",
    "BSBI_instance = BSBIIndex(data_dir=toy_dir, output_dir = 'tmp/', index_name = 'toy')\n",
    "BSBI_instance.parse_block('toy-data/1/')\n",
    "### End your code"
   ],
   "metadata": {
    "collapsed": false,
    "pycharm": {
     "name": "#%%\n"
    }
   }
  },
  {
   "cell_type": "markdown",
   "source": [
    "### 倒排表\n",
    "\n",
    "> The block is then inverted and written to disk. Inversion involves two steps. First, we sort the termID-docID pairs. Next, we collect all termID-docID pairs with the same termID into a postings list, where a posting is simply a docID. The result, an inverted index for the block we have just read, is then written to disk.\n",
    "\n",
    "在这一部分我们添加函数`invert_write`来实现由termID-docID对构建倒排表。 \n",
    "\n",
    "但是，我们首先需要实现类`InvertedIndexWriter`。和列表类似，该类提供了append函数，但是倒排表不会存储在内存中而是直接写入到磁盘里。"
   ],
   "metadata": {
    "collapsed": false
   }
  },
  {
   "cell_type": "code",
   "execution_count": 74,
   "metadata": {},
   "outputs": [],
   "source": [
    "class InvertedIndexWriter(InvertedIndex):\n",
    "    \"\"\"\n",
    "\n",
    "    Attributes\n",
    "    ----------\n",
    "    terms: list[int]\n",
    "        term ids\n",
    "    postings_dict: Dictionary mapping: termID->(start_position_in_index_file,\n",
    "                                            number_of_postings_in_list,\n",
    "                                           length_in_bytes_of_postings_list)\n",
    "    index_file: context manager\n",
    "        write metadata index\n",
    "    append(term, postings_list):\n",
    "        将postinglist的信息记录到posting dict\n",
    "        注意：直接写入磁盘！！！\n",
    "    \"\"\"\n",
    "\n",
    "    def __enter__(self):\n",
    "        self.index_file = open(self.index_file_path, 'wb+')\n",
    "        return self\n",
    "\n",
    "    def append(self, term, postings_list):\n",
    "        \"\"\"\n",
    "        需要一次性构建完整的posting list吗？？？？\n",
    "        Appends the term and encoded postings_list to end of the index file.\n",
    "        并且将postinglist的信息记录到posting dict\n",
    "        注意：直接写入磁盘！！！\n",
    "\n",
    "\n",
    "\n",
    "        This function does three things,\n",
    "        1. Encodes the postings_list using self.postings_encoding\n",
    "        2. Stores metadata in the form of self.terms and self.postings_dict\n",
    "           Note that self.postings_dict maps termID to a 3 tuple of\n",
    "           (start_position_in_index_file,\n",
    "           number_of_postings_in_list,\n",
    "           length_in_bytes_of_postings_list)\n",
    "        3. Appends the bytestream to the index file on disk\n",
    "\n",
    "        Hint: You might find it helpful to read the Python I/O docs\n",
    "        (https://docs.python.org/3/tutorial/inputoutput.html) for\n",
    "        information about appending to the end of a file.\n",
    "\n",
    "        Parameters\n",
    "        ----------\n",
    "        term:\n",
    "            term or termID is the unique identifier for the term\n",
    "            最好是termID吧\n",
    "        postings_list: List[Int]\n",
    "            List of docIDs where the term appears\n",
    "\n",
    "\n",
    "        \"\"\"\n",
    "        # print(term,postings_list)\n",
    "        encoded_postlist = self.postings_encoding.encode(postings_list)\n",
    "        # if term not in self.terms:\n",
    "        self.terms.append(term)\n",
    "        # 不会覆盖，因为term是独立的。\n",
    "        # self.index_file.tell()用于指明当前indexfile的末端位置\n",
    "        self.postings_dict[term] = (self.index_file.tell(), len(postings_list), len(encoded_postlist))\n",
    "        self.index_file.write(encoded_postlist)  # self.index_file可以被写入数据\n",
    "\n",
    "\n"
   ]
  },
  {
   "cell_type": "markdown",
   "metadata": {},
   "source": [
    "尽管还没有实现读取索引的类，我们还是可以用以下测试代码检测我们的实现。"
   ]
  },
  {
   "cell_type": "code",
   "execution_count": 75,
   "metadata": {},
   "outputs": [],
   "source": [
    "with InvertedIndexWriter('test', directory='tmp/') as index:\n",
    "    index.append(1, [2, 3, 4])\n",
    "    index.append(2, [3, 4, 5])\n",
    "    index.index_file.seek(0)\n",
    "    assert index.terms == [1,2], \"terms sequence incorrect\"\n",
    "    assert index.postings_dict == {1: (0, 3, len(UncompressedPostings.encode([2,3,4]))), \n",
    "                                   2: (len(UncompressedPostings.encode([2,3,4])), 3, \n",
    "                                       len(UncompressedPostings.encode([3,4,5])))}, \"postings_dict incorrect\"\n",
    "    assert UncompressedPostings.decode(index.index_file.read()) == [2, 3, 4, 3, 4, 5], \"postings on disk incorrect\""
   ]
  },
  {
   "cell_type": "markdown",
   "metadata": {},
   "source": [
    "现在我们实现 `invert_write`，它将解析得到的td_pairs转换成倒排表，并使用`InvertedIndexWriter` 类将其写入磁盘。"
   ]
  },
  {
   "cell_type": "code",
   "execution_count": 76,
   "outputs": [],
   "source": [
    "# class BSBIIndex(BSBIIndex):\n",
    "#     def invert_write(self, td_pairs, index):\n",
    "#         \"\"\"\n",
    "#         写一个块的数据，index是一个块的writer\n",
    "#         构建倒排索引列表，并写入相应index文件\n",
    "#         Inverts td_pairs into postings_lists and writes them to the given index\n",
    "# \n",
    "#         Parameters\n",
    "#         ----------\n",
    "#         td_pairs: List[Tuple[Int, Int]]\n",
    "#             一个块中的td pairs\n",
    "#             List of termID-docID pairs\n",
    "#             和parse blocks函数返回值相同\n",
    "#         index: InvertedIndexWriter\n",
    "#             对应块的index文件\n",
    "#             Inverted index on disk corresponding to the block\n",
    "#         \"\"\"\n",
    "#         res = defaultdict(list)\n",
    "#         # 遍历所有td pairs并将其归类，形成term - doclist的inverted list\n",
    "#         for pair in td_pairs:\n",
    "#             termID = pair[0]\n",
    "#             docID = pair[1]\n",
    "#             res[termID].append(docID)\n",
    "#         terms = sorted(res.keys())\n",
    "#         # 将每个term 以及其postinglist写入磁盘\n",
    "#         for t in terms:\n",
    "#             # print(\"inverted\")\n",
    "#             index.append(t, sorted(list(set(res[t]))))\n",
    "#             # print(list(set(res[t])))\n",
    "#         \n"
   ],
   "metadata": {
    "collapsed": false,
    "pycharm": {
     "name": "#%%\n"
    }
   }
  },
  {
   "cell_type": "markdown",
   "source": [
    "我们可以在测试数据上读取一个块并观察倒排索引中包含的内容。\n",
    "仿照`InvertedIndexWriter`部分写一些测试样例。"
   ],
   "metadata": {
    "collapsed": false,
    "pycharm": {
     "name": "#%% md\n"
    }
   }
  },
  {
   "cell_type": "code",
   "execution_count": 77,
   "metadata": {},
   "outputs": [],
   "source": [
    "### Begin your code\n",
    "\n",
    "# bsbi.load()\n",
    "# print(bsbi.parse_block('toy-data'))\n",
    "with InvertedIndexWriter('test', directory=r\"tmp/\") as iiw :\n",
    "    bsbi = BSBIIndex('toy-data', 'tmp', 'test')\n",
    "    bsbi.invert_write(bsbi.parse_block('toy-data'), iiw)\n",
    "### End your code"
   ]
  },
  {
   "cell_type": "markdown",
   "metadata": {},
   "source": [
    "### 合并\n",
    "> The algorithm simultaneously merges the ten blocks into one large merged index. To do the merging, we open all block files simultaneously, and maintain small read buffers for the ten blocks we are reading and a write buffer for the final merged index we are writing. \n",
    "\n",
    "Python中的迭代模型非常自然地符合我们维护一个小的读缓存的要求。我们可以迭代地从磁盘上每次读取文件的一个倒排列表。我们通过构建`InvertedIndex`的子类`InvertedIndexIterator`来完成这个迭代任务。"
   ]
  },
  {
   "cell_type": "code",
   "execution_count": 78,
   "metadata": {},
   "outputs": [],
   "source": [
    "class InvertedIndexIterator(InvertedIndex):\n",
    "    \"\"\"\n",
    "    用next函数逐个获取term和posting list\n",
    "\n",
    "    file.read([size])：size 未指定则返回整个文件，如果文件大小 >2 倍内存则有问题，f.read()读到文件尾时返回\"\"(空字串)。\n",
    "\n",
    "    f.tell()：返回一个整数,表示当前文件指针的位置(就是到文件头的字节数)。\n",
    "\n",
    "    f.seek(偏移量,[起始位置])：用来移动文件指针。\n",
    "\n",
    "    偏移量: 单位为字节，可正可负\n",
    "    起始位置: 0 - 文件头, 默认值; 1 - 当前位置; 2 - 文件尾\n",
    "    f.close() 关闭文件\n",
    "\n",
    "    Attributes\n",
    "    ----------\n",
    "    indicator: int\n",
    "        用于指明当前遍历的字节流index file的位置\n",
    "\n",
    "\n",
    "    \"\"\"\n",
    "\n",
    "    def __enter__(self):\n",
    "        \"\"\"Adds an initialization_hook to the __enter__ function of super class\n",
    "        \"\"\"\n",
    "        super().__enter__()\n",
    "        self._initialization_hook()\n",
    "        return self\n",
    "\n",
    "    def _initialization_hook(self):\n",
    "        \"\"\"\n",
    "        初始化一个标志位，用于标明当前遍历的字节流index file的位置\n",
    "        \"\"\"\n",
    "        ### Begin your code\n",
    "        # self.indicator=0\n",
    "        ### End your code\n",
    "\n",
    "    def __iter__(self):\n",
    "        return self\n",
    "\n",
    "    def __next__(self):\n",
    "        \"\"\"\n",
    "        Returns the next (term, postings_list) pair in the index.\n",
    "\n",
    "        file.read([size])：size 未指定则返回整个文件，如果文件大小 >2 倍内存则有问题，f.read()读到文件尾时返回\"\"(空字串)。\n",
    "\n",
    "        f.tell()：返回一个整数,表示当前文件指针的位置(就是到文件头的字节数)。\n",
    "\n",
    "        f.seek(偏移量,[起始位置])：用来移动文件指针。\n",
    "\n",
    "        偏移量: 单位为字节，可正可负\n",
    "        起始位置: 0 - 文件头, 默认值; 1 - 当前位置; 2 - 文件尾\n",
    "\n",
    "        Note: This function should only read a small amount of data from the\n",
    "        index file. In particular, you should not try to maintain the full\n",
    "        index file in memory.\n",
    "\n",
    "        Returns\n",
    "        ---------\n",
    "        term: int\n",
    "            单词的编号 term id\n",
    "        posting_list: list[int]\n",
    "            倒排索引表\n",
    "\n",
    "        \"\"\"\n",
    "        ### Begin your code\n",
    "        term = next(self.term_iter)\n",
    "        pd = self.postings_dict[term]\n",
    "        self.index_file.seek(pd[0])  # 将文件指针向后移，read时以文件指针位置为基址\n",
    "        encoded_posting_list = self.index_file.read(pd[2])\n",
    "        return term, self.postings_encoding.decode(encoded_posting_list)\n",
    "        ### End your code\n",
    "\n",
    "    def delete_from_disk(self):\n",
    "        \"\"\"Marks the index for deletion upon exit. Useful for temporary indices\n",
    "        \"\"\"\n",
    "        self.delete_upon_exit = True\n",
    "\n",
    "    def __exit__(self, exception_type, exception_value, traceback):\n",
    "        \"\"\"Delete the index file upon exiting the context along with the\n",
    "        functions of the super class __exit__ function\"\"\"\n",
    "        self.index_file.close()\n",
    "        if hasattr(self, 'delete_upon_exit') and self.delete_upon_exit:\n",
    "            os.remove(self.index_file_path)\n",
    "            os.remove(self.metadata_file_path)\n",
    "        else:\n",
    "            with open(self.metadata_file_path, 'wb') as f:\n",
    "                pkl.dump([self.postings_dict, self.terms], f)"
   ]
  },
  {
   "cell_type": "markdown",
   "metadata": {},
   "source": [
    "为了测试以上代码，我们先用`InvertedIndexWriter` 创建索引，然后再迭代遍历。写一些小的测试样例观察它是否正常运行。至少你得写一个测试，手工构建一个小的索引，用`InvertedIndexWriter`将他们写入磁盘，然后用`InvertedIndexIterator`迭代遍历倒排索引。"
   ]
  },
  {
   "cell_type": "code",
   "execution_count": 79,
   "metadata": {},
   "outputs": [
    {
     "name": "stdout",
     "output_type": "stream",
     "text": [
      "(0, [0, 5, 7])\n",
      "(1, [0, 5, 7])\n",
      "(2, [0, 3, 5, 7])\n",
      "(3, [0, 5, 7])\n",
      "(4, [0, 1, 2, 3, 5, 6, 7, 8])\n",
      "(5, [1, 6, 8])\n",
      "(6, [1, 6, 8])\n",
      "(7, [1, 2, 6, 8])\n",
      "(8, [1, 3, 6, 8])\n",
      "(9, [2])\n",
      "(10, [2])\n",
      "(11, [2])\n",
      "(12, [2])\n",
      "(13, [2])\n",
      "(14, [2])\n",
      "(15, [2])\n",
      "(16, [2])\n",
      "(17, [2])\n",
      "(18, [2])\n",
      "(19, [2])\n",
      "(20, [2])\n",
      "(21, [2])\n",
      "(22, [2])\n",
      "(23, [2])\n",
      "(24, [2])\n",
      "(25, [2])\n",
      "(26, [2, 3])\n",
      "(27, [2])\n",
      "(28, [2])\n",
      "(29, [2])\n",
      "(30, [2])\n",
      "(31, [2])\n",
      "(32, [2])\n",
      "(33, [2])\n",
      "(34, [2])\n",
      "(35, [2])\n",
      "(36, [2])\n",
      "(37, [2])\n",
      "(38, [2])\n",
      "(39, [2])\n",
      "(40, [2])\n",
      "(41, [2])\n",
      "(42, [2])\n",
      "(43, [2])\n",
      "(44, [2])\n",
      "(45, [2])\n",
      "(46, [2])\n",
      "(47, [2])\n",
      "(48, [2])\n",
      "(49, [2])\n",
      "(50, [2])\n",
      "(51, [2])\n",
      "(52, [2])\n",
      "(53, [2])\n",
      "(54, [2])\n",
      "(55, [2])\n",
      "(56, [2])\n",
      "(57, [2])\n",
      "(58, [2])\n",
      "(59, [2])\n",
      "(60, [2])\n",
      "(61, [2])\n",
      "(62, [2])\n",
      "(63, [2])\n",
      "(64, [2])\n",
      "(65, [2])\n",
      "(66, [2])\n",
      "(67, [2])\n",
      "(68, [2])\n",
      "(69, [2])\n",
      "(70, [2])\n",
      "(71, [2])\n",
      "(72, [2])\n",
      "(73, [2])\n",
      "(74, [2])\n",
      "(75, [2])\n",
      "(76, [2])\n",
      "(77, [2])\n",
      "(78, [2])\n",
      "(79, [2])\n",
      "(80, [2])\n",
      "(81, [2])\n",
      "(82, [2])\n",
      "(83, [2])\n",
      "(84, [2])\n",
      "(85, [2])\n",
      "(86, [2])\n",
      "(87, [2])\n",
      "(88, [2])\n",
      "(89, [2])\n",
      "(90, [2])\n",
      "(91, [2])\n",
      "(92, [2])\n",
      "(93, [2])\n",
      "(94, [2])\n",
      "(95, [2])\n",
      "(96, [2])\n",
      "(97, [2])\n",
      "(98, [2])\n",
      "(99, [2])\n",
      "(100, [2])\n",
      "(101, [2])\n",
      "(102, [2])\n",
      "(103, [2])\n",
      "(104, [2])\n",
      "(105, [2])\n",
      "(106, [2])\n",
      "(107, [2])\n",
      "(108, [2])\n",
      "(109, [2])\n",
      "(110, [2])\n",
      "(111, [2])\n",
      "(112, [2])\n",
      "(113, [2])\n",
      "(114, [2])\n",
      "(115, [2])\n",
      "(116, [2])\n",
      "(117, [2])\n",
      "(118, [2])\n",
      "(119, [2])\n",
      "(120, [2])\n",
      "(121, [2])\n",
      "(122, [2])\n",
      "(123, [2])\n",
      "(124, [2])\n",
      "(125, [2])\n",
      "(126, [2])\n",
      "(127, [2])\n",
      "(128, [2])\n",
      "(129, [2])\n",
      "(130, [2])\n",
      "(131, [2])\n",
      "(132, [2])\n",
      "(133, [2])\n",
      "(134, [2])\n",
      "(135, [2])\n",
      "(136, [2])\n",
      "(137, [2])\n",
      "(138, [2])\n",
      "(139, [2])\n",
      "(140, [2])\n",
      "(141, [2])\n",
      "(142, [2])\n",
      "(143, [2])\n",
      "(144, [2])\n",
      "(145, [2])\n",
      "(146, [2])\n",
      "(147, [2])\n",
      "(148, [2])\n",
      "(149, [3])\n",
      "(150, [3])\n",
      "(151, [3])\n",
      "(152, [3])\n",
      "(153, [4])\n"
     ]
    }
   ],
   "source": [
    "\"\"\"test sample\"\"\"\n",
    "### Begin your code\n",
    "iii = InvertedIndexIterator('test', directory=r\"tmp\")\n",
    "with iii as i:#这些iter、next函数只有在被当做上下文管理器打开时才能访问到\n",
    "    t = iter(i)\n",
    "    try:\n",
    "        while t:\n",
    "            print(t.__next__())\n",
    "    except StopIteration:\n",
    "        i.__exit__(StopIteration,StopIteration.value,StopIteration.__traceback__)\n",
    "### End your code"
   ]
  },
  {
   "cell_type": "markdown",
   "metadata": {},
   "source": [
    "> During merging, in each iteration, we select the lowest termID that has not been processed yet using a priority queue or a similar data structure. All postings lists for this termID are read and merged, and the merged list is written back to disk. Each read buffer is refilled from its file when necessary.\n",
    "\n",
    "我们将使用`InvertedIndexIterator`来完成读取的部分，用`InvertedIndexWriter`来将合并后的索引写入磁盘。\n",
    "\n",
    "注意到我们之前一直使用`with` 语句来打开倒排索引文件，但是现在需要程序化地完成这项工作。可以看到我们在基类`BSBIIndex`的`index`函数中使用了`contextlib`([参考文档](https://docs.python.org/3/library/contextlib.html#contextlib.ExitStack))\n",
    "你的任务是合并*打开的*`InvertedIndexIterator`对象（倒排列表），并且通过一个`InvertedIndexWriter`对象每次写入一个文档列表。\n",
    "\n",
    "既然我们知道文档列表已经排过序了，那么我们可以在线性时间内对它们进行合并排序。事实上`heapq`([参考文档](https://docs.python.org/3.0/library/heapq.html)) 是Python中一个实现了堆排序算法的标准模板。另外它还包含一个实用的函数`heapq.merge`，可以将多个已排好序的输入（可迭代）合并成一个有序的输出并返回它的迭代器。它不仅可以用来合并倒排列表，也可以合并倒排索引词典。\n",
    "\n",
    "为了让你快速上手`heapq.merge`函数，我们提供了一个简单的使用样例。给出两个以动物和树平均寿命排序的列表，我们希望合并它们。"
   ]
  },
  {
   "cell_type": "code",
   "execution_count": 80,
   "metadata": {},
   "outputs": [
    {
     "name": "stdout",
     "output_type": "stream",
     "text": [
      "('Giraffe', 28)\n",
      "('Rhinoceros', 40)\n",
      "('Gray Birch', 50)\n",
      "('Indian Elephant', 70)\n",
      "('Black Willow', 70)\n",
      "('Golden Eagle', 80)\n",
      "('Basswood', 100)\n",
      "('Box turtle', 123)\n",
      "('Bald Cypress', 600)\n"
     ]
    }
   ],
   "source": [
    "import heapq\n",
    "animal_lifespans = [('Giraffe', 28), \n",
    "                   ('Rhinoceros', 40), \n",
    "                   ('Indian Elephant', 70), \n",
    "                   ('Golden Eagle', 80), \n",
    "                   ('Box turtle', 123)]\n",
    "\n",
    "tree_lifespans = [('Gray Birch', 50), \n",
    "                  ('Black Willow', 70), \n",
    "                  ('Basswood', 100),\n",
    "                  ('Bald Cypress', 600)]\n",
    "\n",
    "lifespan_lists = [animal_lifespans, tree_lifespans]\n",
    "\n",
    "for merged_item in heapq.merge(*lifespan_lists, key=lambda x: x[1]):\n",
    "    print(merged_item)"
   ]
  },
  {
   "cell_type": "markdown",
   "metadata": {},
   "source": [
    "注意使用`*`将`lifespan_lists`解包作为参数，并且使用`lambda`函数来给出进行排序的key。如果你对它们不熟悉可以参考文档([unpacking lists](https://docs.python.org/3/tutorial/controlflow.html#unpacking-argument-lists), [lambda expressions](https://docs.python.org/3/tutorial/controlflow.html#lambda-expressions))。"
   ]
  },
  {
   "cell_type": "code",
   "execution_count": 81,
   "metadata": {},
   "outputs": [],
   "source": [
    "# import heapq\n",
    "# class BSBIIndex(BSBIIndex):\n",
    "#     def merge(self, indices, merged_index):\n",
    "#         \"\"\"\n",
    "#         未能实现完全的不利用多余内存的合并方法\n",
    "#         Merges multiple inverted indices into a single index\n",
    "#         利用merged index来进行写入磁盘\n",
    "# \n",
    "# \n",
    "# \n",
    "#         import heapq\n",
    "#         animal_lifespans = [('Giraffe', 28),\n",
    "#                            ('Rhinoceros', 40),\n",
    "#                            ('Indian Elephant', 70),\n",
    "#                            ('Golden Eagle', 80),\n",
    "#                            ('Box turtle', 123)]\n",
    "# \n",
    "#         tree_lifespans = [('Gray Birch', 50),\n",
    "#                           ('Black Willow', 70),\n",
    "#                           ('Basswood', 100),\n",
    "#                           ('Bald Cypress', 600)]\n",
    "# \n",
    "#         lifespan_lists = [animal_lifespans, tree_lifespans]\n",
    "# \n",
    "#         for merged_item in heapq.merge(*lifespan_lists, key=lambda x: x[1]):\n",
    "#             print(merged_item)\n",
    "# \n",
    "# \n",
    "#         Parameters\n",
    "#         ----------\n",
    "#         indices: List[InvertedIndexIterator]\n",
    "#             A list of InvertedIndexIterator objects, each representing an\n",
    "#             **iterable inverted index for a block**\n",
    "#         merged_index: InvertedIndexWriter\n",
    "#             An instance of InvertedIndexWriter object into which each merged\n",
    "#             postings list is written out one at a time\n",
    "#         \"\"\"\n",
    "#         # print(len(self.term_id_map))\n",
    "#         # 此时我应该能够在一个循环中存下所有该词的posting list\n",
    "#         stack = defaultdict(list) # 用来保存next出来，但是不能立即加入到pl中的tuple元组\n",
    "#         for termid in range(len(self.term_id_map)):\n",
    "#             pl = []\n",
    "#             for iii in indices:\n",
    "#                 try:\n",
    "#                     while iii:\n",
    "#                         tup = next(iii)\n",
    "#                         if tup[0] == termid:  # 完成一次插入就跳出，否则会直接遍历完iter的所有元素并且无法重新置位为起始\n",
    "#                             pl += tup[1]\n",
    "#                             break\n",
    "#                         stack[tup[0]]+=tup[1]  # 返回的tup[0]并非当前正在合并的term，因此将它放到列表中\n",
    "#                 except StopIteration:\n",
    "#                     continue\n",
    "#             if stack.get(termid):\n",
    "#                 pl+=stack.pop(termid)\n",
    "#             merged_index.append(termid, sorted(pl))"
   ]
  },
  {
   "cell_type": "markdown",
   "metadata": {},
   "source": [
    "首先确保它在测试数据上正常运行"
   ]
  },
  {
   "cell_type": "code",
   "execution_count": 82,
   "metadata": {},
   "outputs": [],
   "source": [
    "# BSBI_instance = BSBIIndex(data_dir=toy_dir, output_dir = 'toy_output_dir')\n",
    "# BSBI_instance.index()"
   ]
  },
  {
   "cell_type": "markdown",
   "metadata": {},
   "source": [
    "接下来对整个数据集构建索引"
   ]
  },
  {
   "cell_type": "code",
   "execution_count": 83,
   "metadata": {},
   "outputs": [],
   "source": [
    "# BSBI_instance = BSBIIndex(data_dir='pa1-data', output_dir = 'output_dir')\n",
    "# BSBI_instance.index()"
   ]
  },
  {
   "cell_type": "markdown",
   "metadata": {},
   "source": [
    "如果你在合并阶段出现了错误，可以利用以下代码来debug。"
   ]
  },
  {
   "cell_type": "code",
   "execution_count": 84,
   "metadata": {},
   "outputs": [],
   "source": [
    "# BSBI_instance = BSBIIndex(data_dir='pa1-data', output_dir = 'output_dir')\n",
    "# BSBI_instance.intermediate_indices = ['index_'+str(i) for i in range(1)]\n",
    "# with InvertedIndexWriter(BSBI_instance.index_name, directory=BSBI_instance.output_dir, postings_encoding=BSBI_instance.postings_encoding) as merged_index:\n",
    "#     with contextlib.ExitStack() as stack:\n",
    "#         indices = [stack.enter_context(InvertedIndexIterator(index_id, directory=BSBI_instance.output_dir, postings_encoding=BSBI_instance.postings_encoding)) for index_id in BSBI_instance.intermediate_indices]\n",
    "#         BSBI_instance.merge(indices, merged_index)"
   ]
  },
  {
   "cell_type": "markdown",
   "metadata": {},
   "source": [
    "## 布尔联合检索 (10%)\n",
    "\n",
    "我们将实现BSBIIndex中的`retrieve`函数，对于给定的包含由空格分隔tokens的字符串查询，返回包含查询中所有tokens的文档列表。但是我们并不能迭代遍历整个索引或者将整个索引加载到内存来寻找相应的terms（索引太大）。\n",
    "\n",
    "首先我们要实现`InvertedIndex`的子类`InvertedIndexMapper`，它能够找到对应terms在索引文件中位置并取出它的倒排记录表。"
   ]
  },
  {
   "cell_type": "code",
   "execution_count": 85,
   "metadata": {},
   "outputs": [],
   "source": [
    "class InvertedIndexMapper(InvertedIndex):\n",
    "    def __getitem__(self, key):\n",
    "        return self._get_postings_list(key)\n",
    "    \n",
    "    def _get_postings_list(self, term):\n",
    "        \"\"\"Gets a postings list (of docIds) for `term`.\n",
    "        \n",
    "        This function should not iterate through the index file.\n",
    "        I.e., it should only have to read the bytes from the index file\n",
    "        corresponding to the postings list for the requested term.\n",
    "        \"\"\"\n",
    "        ### Begin your code\n",
    "        try:\n",
    "            pd = self.postings_dict[term]\n",
    "            if not pd:\n",
    "                raise KeyError\n",
    "            self.index_file.seek(pd[0])  # 将文件指针向后移，read时以文件指针位置为基址\n",
    "            encoded_posting_list = self.index_file.read(pd[2])\n",
    "            return self.postings_encoding.decode(encoded_posting_list)\n",
    "        except KeyError:\n",
    "            print(term,'not found')\n",
    "\n",
    "\n",
    "        ### End your code"
   ]
  },
  {
   "cell_type": "markdown",
   "metadata": {},
   "source": [
    "写一些测试样例检测`_get_postings_list`的实现"
   ]
  },
  {
   "cell_type": "code",
   "execution_count": 86,
   "metadata": {},
   "outputs": [
    {
     "name": "stdout",
     "output_type": "stream",
     "text": [
      "boolean not found\n"
     ]
    }
   ],
   "source": [
    "### Begin your code\n",
    "BSBI_instance = BSBIIndex(data_dir='test-pa1-data1', output_dir = 'test-output-diroutput_dir' )\n",
    "# BSBI_instance.index()\n",
    "with InvertedIndexMapper(BSBI_instance.index_name,BSBI_instance.postings_encoding,directory=BSBI_instance.output_dir) as iim:\n",
    "    iim._get_postings_list(\"boolean\")\n",
    "### End your code"
   ]
  },
  {
   "cell_type": "markdown",
   "metadata": {},
   "source": [
    "现在我们获得了查询中terms对应的倒排记录表，接着需要求他们的交集。这部分与我们之前作业的merge方法类似，请实现`sorted_intersect`函数，遍历两个有序列表并在线性时间内合并。"
   ]
  },
  {
   "cell_type": "code",
   "execution_count": 87,
   "metadata": {},
   "outputs": [],
   "source": [
    "def sorted_intersect(list1, list2):\n",
    "    \"\"\"Intersects two (ascending) sorted lists and returns the sorted result\n",
    "    \n",
    "    Parameters\n",
    "    ----------\n",
    "    list1: List[Comparable]\n",
    "    list2: List[Comparable]\n",
    "        Sorted lists to be intersected\n",
    "        \n",
    "    Returns\n",
    "    -------\n",
    "    List[Comparable]\n",
    "        Sorted intersection        \n",
    "    \"\"\"\n",
    "    ### Begin your code\n",
    "    return sorted(list(set(list1).intersection(set(list2))))\n",
    "    ### End your code"
   ]
  },
  {
   "cell_type": "markdown",
   "metadata": {},
   "source": [
    "简单的测试样例"
   ]
  },
  {
   "cell_type": "code",
   "execution_count": 88,
   "metadata": {},
   "outputs": [
    {
     "data": {
      "text/plain": "[1, 2, 3, 4]"
     },
     "execution_count": 88,
     "metadata": {},
     "output_type": "execute_result"
    }
   ],
   "source": [
    "### Begin your code\n",
    "sorted_intersect([2,3,4,1],[3,4,2,1])\n",
    "### End your code"
   ]
  },
  {
   "cell_type": "markdown",
   "metadata": {},
   "source": [
    "现在可以利用`sorted_intersect` 和 `InvertedIndexMapper`来实现`retrieve`函数。"
   ]
  },
  {
   "cell_type": "code",
   "execution_count": 89,
   "metadata": {},
   "outputs": [],
   "source": [
    "# # %%tee submission/retrieve.py\n",
    "# class BSBIIndex(BSBIIndex):\n",
    "#     def retrieve(self, query):\n",
    "#         \"\"\"Retrieves the documents corresponding to the conjunctive query\n",
    "# \n",
    "#         Parameters\n",
    "#         ----------\n",
    "#         query: str\n",
    "#             Space separated list of query tokens\n",
    "# \n",
    "#         Result\n",
    "#         ------\n",
    "#         List[str]\n",
    "#             Sorted list of documents which contains each of the query tokens.\n",
    "#             Should be empty if no documents are found.\n",
    "# \n",
    "#         Should NOT throw errors for terms not in corpus\n",
    "#         \"\"\"\n",
    "#         if len(self.term_id_map) == 0 or len(self.doc_id_map) == 0:\n",
    "#             self.load()\n",
    "# \n",
    "#         ### Begin your code\n",
    "#         terms = query.split(' ')\n",
    "#         with InvertedIndexMapper(self.index_name, self.postings_encoding, directory=self.output_dir) as iim:\n",
    "#             res = []\n",
    "# \n",
    "#             for term in terms:\n",
    "#                 try:\n",
    "#                     termid=self.term_id_map.str_to_id[term]\n",
    "#                     if not res:\n",
    "#                         res = iim._get_postings_list(termid)\n",
    "#                     res = sorted_intersect(res, iim._get_postings_list(termid))\n",
    "#                 except Exception:\n",
    "#                     print(term, '没找到')\n",
    "#                     continue\n",
    "#             return [self.doc_id_map.id_to_str[r] for r in res]\n",
    "#         ### End your code"
   ]
  },
  {
   "cell_type": "markdown",
   "metadata": {},
   "source": [
    "通过一个简单的查询来测试索引在真实数据集上是否正常工作。"
   ]
  },
  {
   "cell_type": "code",
   "execution_count": 90,
   "metadata": {},
   "outputs": [
    {
     "data": {
      "text/plain": "['pa1-data/1/cs276.stanford.edu_',\n 'pa1-data/1/cs276a.stanford.edu_',\n 'pa1-data/3/infolab.stanford.edu_TR_CS-TN-95-21.html',\n 'pa1-data/4/nlp.stanford.edu_IR-book_',\n 'pa1-data/4/nlp.stanford.edu_IR-book_html_htmledition_an-appraisal-of-probabilistic-models-1.html',\n 'pa1-data/4/nlp.stanford.edu_IR-book_html_htmledition_bayesian-network-approaches-to-ir-1.html',\n 'pa1-data/4/nlp.stanford.edu_IR-book_html_htmledition_boolean-retrieval-2.html',\n 'pa1-data/4/nlp.stanford.edu_IR-book_html_htmledition_computing-scores-in-a-complete-search-system-1.html',\n 'pa1-data/4/nlp.stanford.edu_IR-book_html_htmledition_dictionaries-and-tolerant-retrieval-1.html',\n 'pa1-data/4/nlp.stanford.edu_IR-book_html_htmledition_efficient-scoring-and-ranking-1.html',\n 'pa1-data/4/nlp.stanford.edu_IR-book_html_htmledition_inexact-top-k-document-retrieval-1.html',\n 'pa1-data/4/nlp.stanford.edu_IR-book_html_htmledition_probabilistic-information-retrieval-1.html',\n 'pa1-data/4/nlp.stanford.edu_IR-book_html_htmledition_putting-it-all-together-1.html',\n 'pa1-data/4/nlp.stanford.edu_IR-book_html_htmledition_references-and-further-reading-1.html',\n 'pa1-data/4/nlp.stanford.edu_IR-book_html_htmledition_the-search-user-experience-1.html',\n 'pa1-data/4/nlp.stanford.edu_IR-book_html_htmledition_vector-space-scoring-and-query-operator-interaction-1.html',\n 'pa1-data/4/nlp.stanford.edu_IR-book_html_htmledition_weighted-zone-scoring-1.html',\n 'pa1-data/4/nlp.stanford.edu_IR-book_html_htmledition_wildcard-queries-2.html',\n 'pa1-data/4/nlp.stanford.edu_IR-book_newslides.html',\n 'pa1-data/6/www-nlp.stanford.edu_IR-book_essir2011_',\n 'pa1-data/8/www.stanford.edu_class_cs124_']"
     },
     "execution_count": 90,
     "metadata": {},
     "output_type": "execute_result"
    }
   ],
   "source": [
    "BSBI_instance = BSBIIndex(data_dir='pa1-data', output_dir = 'output_dir')\n",
    "BSBI_instance.retrieve('boolean retrieval')"
   ]
  },
  {
   "cell_type": "markdown",
   "metadata": {},
   "source": [
    "你也可以通过读取文件来测试其中的页面是否真的包含了查询的terms"
   ]
  },
  {
   "cell_type": "code",
   "execution_count": 91,
   "metadata": {},
   "outputs": [
    {
     "name": "stdout",
     "output_type": "stream",
     "text": [
      "cs276 information retrieval and web search cs 276 ling 286 information retrieval and web search spring 2011 pandu nayak and prabhakar raghavan lecture 3 units tu th 4 15 5 30 gates b03 tas sonali aggarwal ivan cui valentin spitkovsky and sandeep sripada staff e mail cs276 spr1011 staff lists stanford edu lectures are also available online and on television through scpd sitn course description basic and advanced techniques for text based information systems efficient text indexing boolean and vector space retrieval models evaluation and interface issues web search including crawling link based algorithms and web metadata text web clustering classification text mining syllabus additional information staff contact information piazzza we strongly recommend students to post questions to the course page on www piazzza com instead of sending emails this forum enables students to discuss the questions they encounter in lectures or assignments here is a quick introduction video email if you have a question not appropriate for the piazzza forum eg one that is only relevant to your situation or one that reveals part of your solution to a homework question please email the staff mailing list at cs276 spr1011 staff lists stanford edu professor pandu nayak office none on campus office hours by appointment email nayak cs stanford edu professor prabhakar raghavan office none on campus office hours by appointment email pragh cs stanford edu ta sonali aggarwal office location b26 a ph 650 723 6319 office hours wednesday 4 30pm 6 30pm email sonali9 stanford edu ta ivan cui office location b26 b ph 650 736 1817 office hours monday 2 15pm 4 15pm email ivancui stanford edu ta valentin spitkovsky office location gates 228 second floor office hours thursday 2 15pm 4 15pm email vals stanford edu ta sandeep sripada office location b26 a ph 650 723 6319 office hours tuesday 5 30pm 7 30pm remember to carry your stanford id to open the basement doors email sss cs stanford edu announcements if you are not registered in the course but wish to receive course announcements you may subscribe to the guest mailing list cs276 spr1011 guests lists stanford edu textbook introduction to information retrieval by c manning p raghavan and h schutze cambridge university press available from the stanford bookstore or other fine retailers you can also download and print chapters at the book website prerequisites cs 103b and cs 107 and any one of cs 121 cs 145 or cs 161 or equivalent background programming experience will be necessary for the two practical exercises related courses introduction to computational advertising http www stanford edu class msande239\n",
      "\n"
     ]
    }
   ],
   "source": [
    "with open(\"pa1-data/1/cs276.stanford.edu_\", 'r') as f:\n",
    "    print(f.read())"
   ]
  },
  {
   "cell_type": "markdown",
   "metadata": {},
   "source": [
    "测试dev queries（提前构建好的查询与结果）是否正确"
   ]
  },
  {
   "cell_type": "code",
   "execution_count": 92,
   "metadata": {},
   "outputs": [
    {
     "name": "stdout",
     "output_type": "stream",
     "text": [
      "Results match for query: we are\n",
      "Results match for query: stanford class\n",
      "Results match for query: stanford students\n",
      "Results match for query: very cool\n",
      "Results match for query: the\n",
      "Results match for query: a\n",
      "Results match for query: the the\n",
      "Results match for query: stanford computer science\n"
     ]
    }
   ],
   "source": [
    "BSBI_instance = BSBIIndex(data_dir='pa1-data', output_dir = 'output_dir')\n",
    "for i in range(1, 9):\n",
    "    with open('dev_queries/query.' + str(i)) as q:\n",
    "        query = q.read().strip('\\n')\n",
    "        my_results = sorted(set([os.path.normpath(path) for path in BSBI_instance.retrieve(query)]))\n",
    "        with open('dev_output/' + str(i) + '.out') as o:\n",
    "            reference_results = sorted(set(['pa1-data\\\\' + os.path.normpath(x.strip()) for x in o.readlines()]))\n",
    "            try:\n",
    "                assert my_results==reference_results\n",
    "                print(\"Results match for query:\", query.strip())\n",
    "            except AssertionError:\n",
    "                print(set(my_results) - set(reference_results))\n",
    "                print(set(reference_results) - set(my_results))\n",
    "                print(str(i) + \" Results DO NOT match for query: \" + query.strip())"
   ]
  },
  {
   "cell_type": "markdown",
   "metadata": {},
   "source": [
    "如果出现了错误，可以通过以下代码比较输出与正确结果的差异\n",
    "\n",
    "### 发现原因\n",
    "we's在答案中是被认为一整个单词，但是使用nltk分词的时候是将其分成we ' s三个部分，因此在查询时是认为文档中有we这个单词，但是答案中没有，因此造成了这个差异"
   ]
  },
  {
   "cell_type": "code",
   "execution_count": 93,
   "metadata": {},
   "outputs": [
    {
     "data": {
      "text/plain": "set()"
     },
     "execution_count": 93,
     "metadata": {},
     "output_type": "execute_result"
    }
   ],
   "source": [
    "set(my_results) - set(reference_results)"
   ]
  },
  {
   "cell_type": "code",
   "execution_count": 94,
   "metadata": {},
   "outputs": [
    {
     "data": {
      "text/plain": "set()"
     },
     "execution_count": 94,
     "metadata": {},
     "output_type": "execute_result"
    }
   ],
   "source": [
    "set(reference_results) - set(my_results)"
   ]
  },
  {
   "cell_type": "markdown",
   "metadata": {},
   "source": [
    "确保你构建自己的查询来测试所有可能的边界情况，例如数据集中没有出现的terms，或者拖慢合并的频繁出现的terms。"
   ]
  },
  {
   "cell_type": "markdown",
   "metadata": {},
   "source": [
    "# 索引压缩  (30%)"
   ]
  },
  {
   "cell_type": "markdown",
   "metadata": {},
   "source": [
    "在这部分，你将使用可变长字节编码对索引进行压缩。（gap-encoding可选，对gap进行编码）\n",
    "\n",
    "下面几个Python运算符可能对你有帮助"
   ]
  },
  {
   "cell_type": "code",
   "execution_count": 95,
   "metadata": {},
   "outputs": [
    {
     "name": "stdout",
     "output_type": "stream",
     "text": [
      "10 % 2 =  0\n",
      "10 % 3 =  1\n",
      "10 / 3 =  3.3333333333333335\n",
      "10 // 3 =  3\n"
     ]
    }
   ],
   "source": [
    "# Remainder (modulo) operator %\n",
    "\n",
    "print(\"10 % 2 = \", 10 % 2)\n",
    "print(\"10 % 3 = \", 10 % 3)\n",
    "\n",
    "# Integer division in Python 3 is done by using two slash signs\n",
    "\n",
    "print(\"10 / 3 = \", 10 / 3)\n",
    "print(\"10 // 3 = \", 10 // 3)"
   ]
  },
  {
   "cell_type": "markdown",
   "metadata": {},
   "source": [
    "完成下面的`CompressedPostings`类，我们将用它来替换`UncompressedPostings`。关于如何使用gap-encoding和可变长字节编码，你可以参考老师课件或者[Chapter 5](https://nlp.stanford.edu/IR-book/pdf/05comp.pdf)。"
   ]
  },
  {
   "cell_type": "code",
   "execution_count": 96,
   "metadata": {},
   "outputs": [],
   "source": [
    "import array\n",
    "class CompressedPostings:\n",
    "    # If you need any extra helper methods you can add them here\n",
    "    ### Begin your code\n",
    "\n",
    "    ### End your code\n",
    "\n",
    "    @staticmethod\n",
    "    def encode(postings_list):\n",
    "        \"\"\"Encodes `postings_list` using gap encoding with variable byte\n",
    "        encoding for each gap\n",
    "\n",
    "        Parameters\n",
    "        ----------\n",
    "        postings_list: List[int]\n",
    "            The postings list to be encoded\n",
    "\n",
    "        Returns\n",
    "        -------\n",
    "        bytes:\n",
    "            Bytes reprsentation of the compressed postings list\n",
    "            (as produced by `array.tobytes` function)\n",
    "        \"\"\"\n",
    "        ### Begin your code\n",
    "        miner=[0]+postings_list[0:-1]\n",
    "        postings_list=list(map(lambda x:x[0]-x[1],zip(postings_list,miner)))\n",
    "        return array.array('L', postings_list).tobytes()\n",
    "\n",
    "        ### End your code\n",
    "\n",
    "    @staticmethod\n",
    "    def decode(encoded_postings_list):\n",
    "        \"\"\"Decodes a byte representation of compressed postings list\n",
    "\n",
    "        Parameters\n",
    "        ----------\n",
    "        encoded_postings_list: bytes\n",
    "            Bytes representation as produced by `CompressedPostings.encode`\n",
    "\n",
    "        Returns\n",
    "        -------\n",
    "        List[int]\n",
    "            Decoded postings list (each posting is a docIds)\n",
    "        \"\"\"\n",
    "        ### Begin your code\n",
    "        base=0\n",
    "        decoded_postings_list = array.array('L')\n",
    "        decoded_postings_list.frombytes(encoded_postings_list)\n",
    "        postings_list=decoded_postings_list.tolist()\n",
    "        for i in range(len(postings_list)):\n",
    "            base+=postings_list[i]\n",
    "            postings_list[i]=base\n",
    "        return  postings_list\n",
    "\n",
    "        ### End your code\n"
   ]
  },
  {
   "cell_type": "markdown",
   "metadata": {},
   "source": [
    "我们实现了一个简单的函数来测试你编码的列表是否被正确解码"
   ]
  },
  {
   "cell_type": "code",
   "execution_count": 97,
   "metadata": {},
   "outputs": [],
   "source": [
    "def test_encode_decode(l):\n",
    "    e = CompressedPostings.encode(l)\n",
    "    d = CompressedPostings.decode(e)\n",
    "    assert d == l,'wrong'\n",
    "    print(d, e)"
   ]
  },
  {
   "cell_type": "markdown",
   "metadata": {},
   "source": [
    "写一些测试样例来确保文档列表的压缩和解压正常运行"
   ]
  },
  {
   "cell_type": "code",
   "execution_count": 98,
   "metadata": {},
   "outputs": [
    {
     "name": "stdout",
     "output_type": "stream",
     "text": [
      "[1, 2, 3, 4] b'\\x01\\x00\\x00\\x00\\x01\\x00\\x00\\x00\\x01\\x00\\x00\\x00\\x01\\x00\\x00\\x00'\n"
     ]
    }
   ],
   "source": [
    "### Begin your code\n",
    "test_encode_decode([1,2,3,4])\n",
    "### End your code"
   ]
  },
  {
   "cell_type": "markdown",
   "metadata": {},
   "source": [
    "现在让我们创建一个新的输出文件夹并使用`CompressedPostings`来构建压缩索引"
   ]
  },
  {
   "cell_type": "code",
   "execution_count": 99,
   "metadata": {},
   "outputs": [],
   "source": [
    "try: \n",
    "    os.mkdir('output_dir_compressed')\n",
    "except FileExistsError:\n",
    "    pass"
   ]
  },
  {
   "cell_type": "code",
   "execution_count": 100,
   "metadata": {},
   "outputs": [],
   "source": [
    "#test\n",
    "BSBI_instance_compressed = BSBIIndex(data_dir='test-pa1-data1', output_dir = 'test_output_dir_compressed', postings_encoding=CompressedPostings)\n",
    "# BSBI_instance_compressed.index()"
   ]
  },
  {
   "cell_type": "code",
   "execution_count": 101,
   "metadata": {},
   "outputs": [],
   "source": [
    "BSBI_instance_compressed = BSBIIndex(data_dir='pa1-data', output_dir = 'output_dir_compressed', postings_encoding=CompressedPostings)\n",
    "# BSBI_instance_compressed.index()"
   ]
  },
  {
   "cell_type": "code",
   "execution_count": 102,
   "outputs": [
    {
     "data": {
      "text/plain": "['pa1-data/1/cs276.stanford.edu_',\n 'pa1-data/1/cs276a.stanford.edu_',\n 'pa1-data/3/infolab.stanford.edu_TR_CS-TN-95-21.html',\n 'pa1-data/4/nlp.stanford.edu_IR-book_',\n 'pa1-data/4/nlp.stanford.edu_IR-book_html_htmledition_an-appraisal-of-probabilistic-models-1.html',\n 'pa1-data/4/nlp.stanford.edu_IR-book_html_htmledition_bayesian-network-approaches-to-ir-1.html',\n 'pa1-data/4/nlp.stanford.edu_IR-book_html_htmledition_boolean-retrieval-2.html',\n 'pa1-data/4/nlp.stanford.edu_IR-book_html_htmledition_computing-scores-in-a-complete-search-system-1.html',\n 'pa1-data/4/nlp.stanford.edu_IR-book_html_htmledition_dictionaries-and-tolerant-retrieval-1.html',\n 'pa1-data/4/nlp.stanford.edu_IR-book_html_htmledition_efficient-scoring-and-ranking-1.html',\n 'pa1-data/4/nlp.stanford.edu_IR-book_html_htmledition_inexact-top-k-document-retrieval-1.html',\n 'pa1-data/4/nlp.stanford.edu_IR-book_html_htmledition_probabilistic-information-retrieval-1.html',\n 'pa1-data/4/nlp.stanford.edu_IR-book_html_htmledition_putting-it-all-together-1.html',\n 'pa1-data/4/nlp.stanford.edu_IR-book_html_htmledition_references-and-further-reading-1.html',\n 'pa1-data/4/nlp.stanford.edu_IR-book_html_htmledition_the-search-user-experience-1.html',\n 'pa1-data/4/nlp.stanford.edu_IR-book_html_htmledition_vector-space-scoring-and-query-operator-interaction-1.html',\n 'pa1-data/4/nlp.stanford.edu_IR-book_html_htmledition_weighted-zone-scoring-1.html',\n 'pa1-data/4/nlp.stanford.edu_IR-book_html_htmledition_wildcard-queries-2.html',\n 'pa1-data/4/nlp.stanford.edu_IR-book_newslides.html',\n 'pa1-data/6/www-nlp.stanford.edu_IR-book_essir2011_',\n 'pa1-data/8/www.stanford.edu_class_cs124_']"
     },
     "execution_count": 102,
     "metadata": {},
     "output_type": "execute_result"
    }
   ],
   "source": [
    "BSBI_instance_compressed.retrieve('boolean retrieval')"
   ],
   "metadata": {
    "collapsed": false,
    "pycharm": {
     "name": "#%%\n"
    }
   }
  },
  {
   "cell_type": "markdown",
   "metadata": {},
   "source": [
    "像之前一样，用已构造好的查询语句来测试是否正常运行"
   ]
  },
  {
   "cell_type": "code",
   "execution_count": 103,
   "metadata": {},
   "outputs": [
    {
     "name": "stdout",
     "output_type": "stream",
     "text": [
      "Results match for query: we are\n",
      "Results match for query: stanford class\n",
      "Results match for query: stanford students\n",
      "Results match for query: very cool\n",
      "Results match for query: the\n",
      "Results match for query: a\n",
      "Results match for query: the the\n",
      "Results match for query: stanford computer science\n"
     ]
    }
   ],
   "source": [
    "BSBI_instance = BSBIIndex(data_dir='pa1-data', output_dir='output_dir_compressed',postings_encoding=CompressedPostings)\n",
    "for i in range(1, 9):\n",
    "    with open('dev_queries/query.' + str(i)) as q:\n",
    "        query = q.read().strip('\\n')\n",
    "        my_results = sorted(set([os.path.normpath(path) for path in BSBI_instance.retrieve(query)]))\n",
    "        with open('dev_output/' + str(i) + '.out') as o:\n",
    "            reference_results = sorted(set(['pa1-data\\\\' + os.path.normpath(x.strip()) for x in o.readlines()]))\n",
    "            try:\n",
    "                assert my_results==reference_results\n",
    "                print(\"Results match for query:\", query.strip())\n",
    "            except AssertionError:\n",
    "                print(set(my_results) - set(reference_results))\n",
    "                print(set(reference_results) - set(my_results))\n",
    "                print(str(i) + \" Results DO NOT match for query: \" + query.strip())"
   ]
  },
  {
   "cell_type": "code",
   "execution_count": 104,
   "outputs": [
    {
     "data": {
      "text/plain": "set()"
     },
     "execution_count": 104,
     "metadata": {},
     "output_type": "execute_result"
    }
   ],
   "source": [
    "set(my_results) - set(reference_results)"
   ],
   "metadata": {
    "collapsed": false,
    "pycharm": {
     "name": "#%%\n"
    }
   }
  },
  {
   "cell_type": "code",
   "execution_count": 105,
   "outputs": [
    {
     "data": {
      "text/plain": "set()"
     },
     "execution_count": 105,
     "metadata": {},
     "output_type": "execute_result"
    }
   ],
   "source": [
    "set(reference_results) - set(my_results)"
   ],
   "metadata": {
    "collapsed": false,
    "pycharm": {
     "name": "#%%\n"
    }
   }
  },
  {
   "cell_type": "markdown",
   "metadata": {},
   "source": [
    "# 额外的编码方式 (10%)"
   ]
  },
  {
   "cell_type": "markdown",
   "metadata": {},
   "source": [
    "通过补充`ECCompressedPostings`的`encode` 和 `decode`方法来实现一种额外的索引压缩方式。在我们课上学的就是**gamma-encoding** 。另外如果大家感兴趣的话也可以了解**Delta Encoding** ，[ALGORITHM SIMPLE-9](https://github.com/manning/CompressionAlgorithms#simple-9) 等。\n",
    "\n",
    "你应该以多字节（而不是bits）来存储倒排记录表，因为索引的长度和位置都存的是字节信息。"
   ]
  },
  {
   "cell_type": "code",
   "execution_count": 106,
   "metadata": {},
   "outputs": [],
   "source": [
    "class ECCompressedPostings:\n",
    "    #If you need any extra helper methods you can add them here \n",
    "    ### Begin your code\n",
    "\n",
    "    ### End your code\n",
    "    \n",
    "    @staticmethod\n",
    "    def encode(postings_list):\n",
    "        \"\"\"Encodes `postings_list` \n",
    "        \n",
    "        Parameters\n",
    "        ----------\n",
    "        postings_list: List[int]\n",
    "            The postings list to be encoded\n",
    "        \n",
    "        Returns\n",
    "        -------\n",
    "        bytes: \n",
    "            Bytes reprsentation of the compressed postings list \n",
    "        \"\"\"\n",
    "        ### Begin your code\n",
    "\n",
    "        ### End your code\n",
    "\n",
    "        \n",
    "    @staticmethod\n",
    "    def decode(encoded_postings_list):\n",
    "        \"\"\"Decodes a byte representation of compressed postings list\n",
    "        \n",
    "        Parameters\n",
    "        ----------\n",
    "        encoded_postings_list: bytes\n",
    "            Bytes representation as produced by `CompressedPostings.encode` \n",
    "            \n",
    "        Returns\n",
    "        -------\n",
    "        List[int]\n",
    "            Decoded postings list (each posting is a docId)\n",
    "        \"\"\"\n",
    "        ### Begin your code\n",
    "\n",
    "        ### End your code"
   ]
  },
  {
   "cell_type": "markdown",
   "metadata": {},
   "source": [
    "# 作业提交\n",
    "\n",
    "本次作业用时两周，截止日期为11.4。请大家在截止日期前将代码（包含运行结果，测试内容不作要求），实验报告（可单独撰写，也可整合在jupyter notebook中）一起提交到nkulixuy@163.com，命名方式为`学号_姓名_hw4`。"
   ]
  },
  {
   "cell_type": "code",
   "execution_count": 107,
   "outputs": [],
   "source": [
    "from math import log\n",
    "class GammaCompressor:\n",
    "    @staticmethod\n",
    "    def int_to_bin(int_in):\n",
    "        \"\"\"\n",
    "\n",
    "        :param int_in:\n",
    "        :return:\n",
    "            ret: str\n",
    "\n",
    "        \"\"\"\n",
    "        if int_in == 0:\n",
    "            return '0'\n",
    "        # 去除第一个位，因此是print(bin(5)) 0b101\n",
    "        ret = '1' * int(log(int_in, 2)) + '0' + bin(int_in)[3:]\n",
    "        return ret\n",
    "\n",
    "    @staticmethod\n",
    "    def encode(postings_list):\n",
    "        \"\"\"Encodes `postings_list`\n",
    "\n",
    "        Parameters\n",
    "        ----------\n",
    "        postings_list: List[int]\n",
    "            The postings list to be encoded\n",
    "\n",
    "        Returns\n",
    "        -------\n",
    "        bytes:\n",
    "            binary reprsentation of the compressed postings list\n",
    "        \"\"\"\n",
    "        ### Begin your code\n",
    "        encoded_postings_list = ''\n",
    "        for i in range(0, len(postings_list)):\n",
    "            #加一是为了处理0和1的情况\n",
    "            encoded_postings_list += GammaCompressor.int_to_bin(postings_list[i] +1)\n",
    "        return encoded_postings_list.encode()\n",
    "\n",
    "    @staticmethod\n",
    "    def decode(encoded_postings):\n",
    "        \"\"\"Decodes a byte representation of compressed postings list\n",
    "\n",
    "        Parameters\n",
    "        ----------\n",
    "        encoded_postings: bytes\n",
    "            Bytes representation as produced by `CompressedPostings.encode`\n",
    "\n",
    "        Returns\n",
    "        -------\n",
    "        List[int]\n",
    "            Decoded postings list (each posting is a docId)\n",
    "        \"\"\"\n",
    "        res=[]\n",
    "        i=0\n",
    "        byteslen=len(encoded_postings)\n",
    "        encoded_postings=encoded_postings.decode()\n",
    "        while True:\n",
    "            length = 0\n",
    "            while encoded_postings[i]!='0':\n",
    "                i+=1\n",
    "                length+=1\n",
    "            i+=1\n",
    "            val= int('1' + encoded_postings[i:i + length],2) - 1\n",
    "            res.append(val)\n",
    "            i=i+length\n",
    "            if i >= byteslen:\n",
    "                return res\n"
   ],
   "metadata": {
    "collapsed": false,
    "pycharm": {
     "name": "#%%\n"
    }
   }
  },
  {
   "cell_type": "code",
   "execution_count": 108,
   "outputs": [
    {
     "name": "stdout",
     "output_type": "stream",
     "text": [
      "Results match for query: we are\n",
      "Results match for query: stanford class\n",
      "Results match for query: stanford students\n",
      "Results match for query: very cool\n",
      "Results match for query: the\n",
      "Results match for query: a\n",
      "Results match for query: the the\n",
      "Results match for query: stanford computer science\n"
     ]
    }
   ],
   "source": [
    "BSBI_instance = BSBIIndex(data_dir='pa1-data',output_dir='gamma_output_dir',postings_encoding=GammaCompressor)\n",
    "# BSBI_instance.index(False)\n",
    "for i in range(1, 9):\n",
    "    with open('dev_queries/query.' + str(i)) as q:\n",
    "        query = q.read().strip('\\n')\n",
    "        my_results = sorted(set([os.path.normpath(path) for path in BSBI_instance.retrieve(query)]))\n",
    "        with open('dev_output/' + str(i) + '.out') as o:\n",
    "            reference_results = sorted(set(['pa1-data\\\\' + os.path.normpath(x.strip()) for x in o.readlines()]))\n",
    "            try:\n",
    "                assert my_results==reference_results\n",
    "                print(\"Results match for query:\", query.strip())\n",
    "            except AssertionError:\n",
    "                print(set(my_results) - set(reference_results))\n",
    "                print(set(reference_results) - set(my_results))\n",
    "                print(str(i) + \" Results DO NOT match for query: \" + query.strip())"
   ],
   "metadata": {
    "collapsed": false,
    "pycharm": {
     "name": "#%%\n"
    }
   }
  },
  {
   "cell_type": "code",
   "execution_count": 108,
   "outputs": [],
   "source": [],
   "metadata": {
    "collapsed": false,
    "pycharm": {
     "name": "#%%\n"
    }
   }
  }
 ],
 "metadata": {
  "kernelspec": {
   "display_name": "Python 3",
   "language": "python",
   "name": "python3"
  },
  "language_info": {
   "codemirror_mode": {
    "name": "ipython",
    "version": 3
   },
   "file_extension": ".py",
   "mimetype": "text/x-python",
   "name": "python",
   "nbconvert_exporter": "python",
   "pygments_lexer": "ipython3",
   "version": "3.8.3"
  },
  "toc": {
   "base_numbering": 1,
   "nav_menu": {
    "height": "66px",
    "width": "252px"
   },
   "number_sections": true,
   "sideBar": true,
   "skip_h1_title": false,
   "title_cell": "Table of Contents",
   "title_sidebar": "Contents",
   "toc_cell": false,
   "toc_position": {},
   "toc_section_display": "block",
   "toc_window_display": false
  }
 },
 "nbformat": 4,
 "nbformat_minor": 2
}