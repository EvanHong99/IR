{
 "cells": [
  {
   "cell_type": "markdown",
   "metadata": {},
   "source": [
    "# IR HW7 基于知识图谱的问答系统"
   ]
  },
  {
   "cell_type": "code",
   "execution_count": 2,
   "metadata": {},
   "outputs": [],
   "source": [
    "from ltp import LTP\n",
    "ltp = LTP()"
   ]
  },
  {
   "cell_type": "code",
   "execution_count": 3,
   "metadata": {},
   "outputs": [],
   "source": [
    "from py2neo import Graph, Node, Relationship\n",
    "\n",
    "graph = Graph(\"http://localhost:7474\", username='neo4j', password='Qazwsxedcrfv0957')"
   ]
  },
  {
   "cell_type": "code",
   "execution_count": 65,
   "metadata": {},
   "outputs": [],
   "source": [
    "class Extractor:\n",
    "    def __init__(self):\n",
    "        global ltp\n",
    "        global graph\n",
    "        self.outpath='test_result/'\n",
    "        self.temp_outpath=self.outpath\n",
    "\n",
    "    def read_file(self, path):\n",
    "        \"\"\"\n",
    "        读取一个文档\n",
    "        \"\"\"\n",
    "        self.temp_outpath+=path\n",
    "        with open(path, 'r',encoding='utf-8') as fr:\n",
    "            self.segs, self.hidden = ltp.seg(fr.read().split(' '))\n",
    "            self.srls = ltp.srl(self.hidden, keep_empty=False)\n",
    "            assert len(self.segs) == len(self.srls)\n",
    "            \n",
    "    def execute_instr(self,path):\n",
    "        \"\"\"\n",
    "        执行已经生成的指令，以将节点添加到数据库\n",
    "        \"\"\"\n",
    "        with open(path, 'r',encoding='utf-8') as fr:\n",
    "            graph.run(fr.readline())\n",
    "\n",
    "    def concat_str(self, seg, triple: tuple):\n",
    "        \"\"\"\n",
    "        Parameters\n",
    "        --------\n",
    "        :param triple: tuple, ('ARG2', 3, 5)\n",
    "        \"\"\"\n",
    "        return ''.join(seg[triple[1]:(triple[2] + 1)])\n",
    "\n",
    "    def extract(self):\n",
    "        \"\"\"\n",
    "        完成对一篇文章的分析，将生成的指令先存储到文件，之后再用cypher语言批处理，以提高效率\n",
    "        \"\"\"\n",
    "        with open(self.temp_outpath,'w',encoding='utf-8') as fw:\n",
    "            for i in range(len(self.segs)):\n",
    "                seg = self.segs[i]\n",
    "                srl = self.srls[i]\n",
    "                for tup in srl:\n",
    "                    relation_name = seg[tup[0]]\n",
    "                    so_list = tup[1]\n",
    "                    s = []\n",
    "                    o = []\n",
    "                    properties = []\n",
    "                    for arg in so_list:\n",
    "                        if arg[0] == 'A0':\n",
    "                            s.append(arg)\n",
    "                        elif 'ARGM' not in arg[0]:\n",
    "                            o.append(arg)\n",
    "                        else:\n",
    "                            properties.append(arg)\n",
    "\n",
    "                    # 生成关系语句\n",
    "                    for node1 in s:\n",
    "                        for node2 in o:\n",
    "                            instr=\"merge (m:\" + node1[0] + \"{name:\\'\" + self.concat_str(seg,node1) + \"\\'})-[r:\" + relation_name + \"]-(n:\" +node2[0] + \"{name:\\'\" + self.concat_str(seg, node2) + \"\\'}) ON CREATE SET r.value=1 on match set r.value=r.value+1;\\n\"\n",
    "                            fw.write(instr)\n",
    "        self.temp_outpath=self.outpath\n",
    "            \n",
    "    def retrieval(self,question:str):\n",
    "        \"\"\"\n",
    "        查询\n",
    "        \"\"\"\n",
    "        segs, hidden = ltp.seg([question])\n",
    "        srls = ltp.srl(hidden, keep_empty=False)\n",
    "        assert len(segs) == len(srls)\n",
    "        for i in range(len(segs)):\n",
    "            seg = segs[i]\n",
    "            srl = srls[i]\n",
    "            for tup in srl:\n",
    "                relation_name = seg[tup[0]]\n",
    "                so_list = tup[1]\n",
    "                s = []\n",
    "                o = []\n",
    "                properties = []\n",
    "                res=[]\n",
    "                for arg in so_list:\n",
    "                    if arg[0] == 'A0':\n",
    "                        s.append(arg)\n",
    "                    elif 'ARGM' not in arg[0]:\n",
    "                        o.append(arg)\n",
    "                    else:\n",
    "                        properties.append(arg)\n",
    "                if not s and not o:\n",
    "                    print('ask another question')\n",
    "                    return;\n",
    "                if o and not s:\n",
    "                    for oo in o:\n",
    "                        res+=graph.run(\"match  (n:\" + oo[0] + \"{name:\\'\" + self.concat_str(seg,oo) + \"\\'})-[r:\"+relation_name+\"]-(m) return m;\").data()\n",
    "                elif s and not o:\n",
    "                    for ss in s:\n",
    "                        res+=graph.run(\"match  (n:\" + ss[0] + \"{name:\\'\" + self.concat_str(seg,ss) + \"\\'})-[r:\"+relation_name+\"]-(m) return m;\").data()\n",
    "                elif s and o:\n",
    "                    for ss in s:\n",
    "                        for oo in o:\n",
    "                            res+=graph.run(\"match  (n:\" + oo[0] + \"{name:\\'\" + self.concat_str(seg,oo) + \"\\'})-[r:\"+relation_name+\"]-(m) return m;\").data()\n",
    "                        res+=graph.run(\"match  (n:\" + ss[0] + \"{name:\\'\" + self.concat_str(seg,ss) + \"\\'})-[r:\"+relation_name+\"]-(m) return m;\").data()\n",
    "                        \n",
    "                print(res)\n",
    "\n",
    "                \n",
    "                \n",
    "\n",
    "        \n"
   ]
  },
  {
   "cell_type": "code",
   "execution_count": 69,
   "metadata": {},
   "outputs": [
    {
     "name": "stdout",
     "output_type": "stream",
     "text": [
      "test_page/2021_1_2/348.txt\n",
      "test_page/2021_1_2/350.txt\n",
      "test_page/2021_1_2/354.txt\n",
      "test_page/2021_1_2/355.txt\n",
      "test_page/2021_1_2/356.txt\n",
      "test_page/2021_1_2/357.txt\n",
      "test_page/2021_1_2/358.txt\n",
      "test_page/2021_1_2/359.txt\n",
      "test_page/2021_1_2/360.txt\n"
     ]
    }
   ],
   "source": [
    "import os\n",
    "e=Extractor()\n",
    "for filepath, dirs, fs in os.walk('test_page/2021_1_2/'):\n",
    "    for filename in fs:\n",
    "        fullpath = os.path.join(filepath, filename)\n",
    "        print(fullpath)\n",
    "        e.read_file(fullpath)\n",
    "        e.extract()"
   ]
  },
  {
   "cell_type": "code",
   "execution_count": 70,
   "metadata": {},
   "outputs": [],
   "source": [
    "import os\n",
    "e=Extractor()\n",
    "for filepath, dirs, fs in os.walk('test_page/selected/'):\n",
    "    for filename in fs:\n",
    "        fullpath = os.path.join(filepath, filename)\n",
    "        e.execute_instr(fullpath)"
   ]
  },
  {
   "cell_type": "code",
   "execution_count": 71,
   "metadata": {},
   "outputs": [
    {
     "name": "stdout",
     "output_type": "stream",
     "text": [
      "[{'m': Node('A1', name='国内学科门类齐全的综合性、研究型大学之一')}]\n"
     ]
    }
   ],
   "source": [
    "e=Extractor()\n",
    "e.retrieval('南开大学是什么大学')"
   ]
  },
  {
   "cell_type": "code",
   "execution_count": null,
   "metadata": {},
   "outputs": [],
   "source": []
  }
 ],
 "metadata": {
  "kernelspec": {
   "display_name": "Python 3",
   "language": "python",
   "name": "python3"
  },
  "language_info": {
   "codemirror_mode": {
    "name": "ipython",
    "version": 3
   },
   "file_extension": ".py",
   "mimetype": "text/x-python",
   "name": "python",
   "nbconvert_exporter": "python",
   "pygments_lexer": "ipython3",
   "version": "3.7.8"
  }
 },
 "nbformat": 4,
 "nbformat_minor": 4
}
